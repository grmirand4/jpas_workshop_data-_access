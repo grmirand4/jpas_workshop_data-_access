{
 "cells": [
  {
   "cell_type": "markdown",
   "id": "2db34016-0ace-4b03-b88f-022276bc7254",
   "metadata": {},
   "source": [
    "# An example to show how to execute a TAP query with authentication"
   ]
  },
  {
   "cell_type": "markdown",
   "id": "7c92dcbb-0374-4891-87b5-a67b2705ba20",
   "metadata": {},
   "source": [
    "__DESCRIPTION__\n",
    "\n",
    "Script to execute a query using pyvo library to obtain data through archive TAP service with authentication\n",
    "\n",
    "@authors Tamara Civera & Javier Hernandez (CEFCA)"
   ]
  },
  {
   "cell_type": "code",
   "execution_count": null,
   "id": "5d2be333-5de3-4e52-8c5c-69ab920a7806",
   "metadata": {},
   "outputs": [],
   "source": [
    "# Imports\n",
    "import pyvo.dal \n",
    "from pyvo.auth import authsession, securitymethods\n",
    "import requests\n",
    "import getpass"
   ]
  },
  {
   "cell_type": "code",
   "execution_count": null,
   "id": "1881521f-9fea-40ce-80ef-5a29558016e4",
   "metadata": {},
   "outputs": [],
   "source": [
    "# To avoid warnings\n",
    "\n",
    "import warnings\n",
    "warnings.simplefilter(\"ignore\")"
   ]
  },
  {
   "cell_type": "code",
   "execution_count": null,
   "id": "3e1f2bca-2af2-4258-8145-e0c98fe53740",
   "metadata": {},
   "outputs": [],
   "source": [
    "archive_url = 'https://archive.cefca.es/catalogues'\n",
    "survey_dr = 'jplus-dr2'\n",
    "url_tap_service = '{0}/vo/tap/{1}'.format(archive_url, survey_dr)\n",
    "\n",
    "user = input(\"Username:\")\n",
    "pwd = getpass.getpass(\"Password:\") \n",
    "\n",
    "archive_login_url = '{0}/login'.format(archive_url)\n",
    "login_args = {'login': user, 'password': pwd, 'submit': 'Sign+In'} \n",
    "login_header = {'Content-type': 'application/x-www-form-urlencoded', 'Accept': 'text/plain'} "
   ]
  },
  {
   "cell_type": "markdown",
   "id": "bbe08548-744d-44ff-8d5e-b393186914ac",
   "metadata": {},
   "source": [
    "__Starting Session__"
   ]
  },
  {
   "cell_type": "code",
   "execution_count": null,
   "id": "530fad42-241e-49ce-846c-7e6e83e6ee2f",
   "metadata": {
    "tags": []
   },
   "outputs": [],
   "source": [
    "pyvo.dal.tap.s = requests.Session()\n",
    "response = pyvo.dal.tap.s.post(archive_login_url, data=login_args, headers=login_header)\n",
    "response.raise_for_status() \n",
    "auth = authsession.AuthSession()\n",
    "auth.credentials.set(securitymethods.ANONYMOUS, pyvo.dal.tap.s) \n"
   ]
  },
  {
   "cell_type": "markdown",
   "id": "02df063c-1266-4d7c-9358-3433cb12d402",
   "metadata": {},
   "source": [
    "__Synchronous mode__"
   ]
  },
  {
   "cell_type": "code",
   "execution_count": null,
   "id": "59c62375-91df-4c0f-b1d7-40de02c440a0",
   "metadata": {
    "tags": []
   },
   "outputs": [],
   "source": [
    "service = pyvo.dal.TAPService(url_tap_service, auth)\n",
    "resultset = service.run_sync(\"SELECT TOP 5 * FROM jplus.TileImage\")\n",
    "resultset.to_table()"
   ]
  },
  {
   "cell_type": "markdown",
   "id": "97bb852e-ba49-4fca-bd74-45a20b485d5f",
   "metadata": {},
   "source": [
    "__Asynchronous mode: Example 1__"
   ]
  },
  {
   "cell_type": "code",
   "execution_count": null,
   "id": "ae59618a-3536-4c3e-a116-1c0c8ba3bd24",
   "metadata": {},
   "outputs": [],
   "source": [
    "# Execute the query in asynchronous mode (simplest way): Works in VOTABLE format\n",
    "\n",
    "service = pyvo.dal.TAPService(url_tap_service, auth)\n",
    "resultset = service.run_async(\"SELECT TOP 5 * FROM jplus.TileImage\")\n",
    "resultset.to_table()"
   ]
  },
  {
   "cell_type": "markdown",
   "id": "432e5ac2-ddca-429e-a3c9-83b86b53f5f2",
   "metadata": {},
   "source": [
    "__Asynchronous mode: Example 2__"
   ]
  },
  {
   "cell_type": "code",
   "execution_count": null,
   "id": "eda5d9f2-48c5-4be4-bba5-813f936134b8",
   "metadata": {},
   "outputs": [],
   "source": [
    "# Execute the query in asynchronous mode (working directly with jobs): Works in VOTABLE format\n",
    "\n",
    "service = pyvo.dal.TAPService(url_tap_service, auth)\n",
    "job = service.submit_job(\"SELECT TOP 5 * FROM jplus.TileImage\")\n",
    "job.run()\n",
    "job.wait()\n",
    "job.raise_if_error()\n",
    "resultset = job.fetch_result()\n",
    "print(resultset)\n",
    "job.delete()"
   ]
  },
  {
   "cell_type": "markdown",
   "id": "2a0561e2-8456-4747-a927-24ee71e9f5ff",
   "metadata": {},
   "source": [
    "__Asynchronous mode: Example 3__"
   ]
  },
  {
   "cell_type": "code",
   "execution_count": null,
   "id": "4f52387c-c49b-44ba-9611-8d6eb18bb0b1",
   "metadata": {},
   "outputs": [],
   "source": [
    "# Execute the query in asynchronous mode (working directly with jobs): Works in FITS format\n",
    "\n",
    "service = pyvo.dal.TAPService(url_tap_service, auth)\n",
    "job = service.submit_job(\"SELECT TOP 10 * FROM jplus.TileImage\", maxrec=300, format=\"FITS\")\n",
    "dest_name = \"data/TileImageData.fits\"\n",
    "try:\n",
    "    job.run()\n",
    "    job.wait()\n",
    "    job.raise_if_error()\n",
    "    with open(dest_name, \"wb\") as dest:        \n",
    "        session = requests.Session()\n",
    "        response = session.get(job.result_uri, auth=(user, pwd), verify=False)\n",
    "        response.raise_for_status()\n",
    "        dest.write(response.content)\n",
    "finally:\n",
    "    job.delete()"
   ]
  },
  {
   "cell_type": "markdown",
   "id": "7d07c1ca-0851-4b3f-98ff-9a4993f8719a",
   "metadata": {},
   "source": [
    "__Asynchronous mode: Example 4__"
   ]
  },
  {
   "cell_type": "code",
   "execution_count": null,
   "id": "0f7b9242-8cad-429f-be38-3ddd679cb400",
   "metadata": {},
   "outputs": [],
   "source": [
    "# Asyncronous mode with jobs: Works in CSV format\n",
    "\n",
    "service = pyvo.dal.TAPService(url_tap_service, auth)\n",
    "job = service.submit_job(\"SELECT * FROM jplus.TileImage\", maxrec=300, format=\"CSV\")\n",
    "dest_name = \"data/TileImageData.csv\"\n",
    "try:\n",
    "    job.run()\n",
    "    job.wait()\n",
    "    job.raise_if_error()\n",
    "    with open(dest_name, \"w\") as dest:        \n",
    "        session = requests.Session()\n",
    "        response = session.get(job.result_uri, auth=(user, pwd), verify=False)\n",
    "        response.raise_for_status()\n",
    "        dest.write(response.text)\n",
    "finally:\n",
    "    job.delete()"
   ]
  },
  {
   "cell_type": "code",
   "execution_count": null,
   "id": "fb692010-ecef-44f0-8f88-124106731e9f",
   "metadata": {},
   "outputs": [],
   "source": []
  }
 ],
 "metadata": {
  "kernelspec": {
   "display_name": "Python 3 (ipykernel)",
   "language": "python",
   "name": "python3"
  },
  "language_info": {
   "codemirror_mode": {
    "name": "ipython",
    "version": 3
   },
   "file_extension": ".py",
   "mimetype": "text/x-python",
   "name": "python",
   "nbconvert_exporter": "python",
   "pygments_lexer": "ipython3",
   "version": "3.10.4"
  }
 },
 "nbformat": 4,
 "nbformat_minor": 5
}
