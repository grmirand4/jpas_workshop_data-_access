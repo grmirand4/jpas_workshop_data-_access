{
 "cells": [
  {
   "cell_type": "markdown",
   "id": "cf5d79b5-f849-465f-b164-40dbef33759a",
   "metadata": {},
   "source": [
    "# An example to show how to execute a TAP query in Anonymous mode"
   ]
  },
  {
   "cell_type": "markdown",
   "id": "12ffb355-53d7-4b66-b44f-d674b52a379f",
   "metadata": {},
   "source": [
    "__DESCRIPTION__\n",
    "\n",
    "Script to execute a query using pyvo library to obtain data through archive TAP service without authentication\n",
    "\n",
    "@authors Tamara Civera & Javier Hernandez (CEFCA)"
   ]
  },
  {
   "cell_type": "code",
   "execution_count": null,
   "id": "5d2be333-5de3-4e52-8c5c-69ab920a7806",
   "metadata": {},
   "outputs": [],
   "source": [
    "# Imports\n",
    "import pyvo.dal \n",
    "import requests"
   ]
  },
  {
   "cell_type": "code",
   "execution_count": null,
   "id": "13b0a9bc-8a04-46ee-a01f-88a26924c06b",
   "metadata": {},
   "outputs": [],
   "source": [
    "# To avoid warnings\n",
    "\n",
    "import warnings\n",
    "warnings.simplefilter(\"ignore\")"
   ]
  },
  {
   "cell_type": "code",
   "execution_count": null,
   "id": "3e1f2bca-2af2-4258-8145-e0c98fe53740",
   "metadata": {},
   "outputs": [],
   "source": [
    "archive_url = 'https://archive.cefca.es/catalogues'\n",
    "survey_dr = 'jplus-dr2'\n",
    "url_tap_service = '{0}/vo/tap/{1}'.format(archive_url, survey_dr)"
   ]
  },
  {
   "cell_type": "markdown",
   "id": "48326371-bd4e-4286-8e28-32ea845bf469",
   "metadata": {},
   "source": [
    "__Synchronous mode__"
   ]
  },
  {
   "cell_type": "code",
   "execution_count": null,
   "id": "59c62375-91df-4c0f-b1d7-40de02c440a0",
   "metadata": {
    "tags": []
   },
   "outputs": [],
   "source": [
    "service = pyvo.dal.TAPService(url_tap_service)\n",
    "resultset = service.run_sync(\"SELECT TOP 5 * FROM jplus.TileImage\")\n",
    "resultset.to_table()"
   ]
  },
  {
   "cell_type": "markdown",
   "id": "b72c5e83-73aa-47f9-b8ba-18d2d7330e59",
   "metadata": {},
   "source": [
    "__Asynchronous mode: Example 1__"
   ]
  },
  {
   "cell_type": "code",
   "execution_count": null,
   "id": "ae59618a-3536-4c3e-a116-1c0c8ba3bd24",
   "metadata": {},
   "outputs": [],
   "source": [
    "# Execute the query in asynchronous mode (simplest way): Works in VOTABLE format\n",
    "\n",
    "service = pyvo.dal.TAPService(url_tap_service)\n",
    "resultset = service.run_async(\"SELECT TOP 5 * FROM jplus.TileImage\")\n",
    "resultset.to_table()"
   ]
  },
  {
   "cell_type": "markdown",
   "id": "e940b004-3879-4588-8a6b-a3a325c54992",
   "metadata": {},
   "source": [
    "__Asynchronous mode: Example 2__"
   ]
  },
  {
   "cell_type": "code",
   "execution_count": null,
   "id": "749834e4-66f2-4c0b-aa85-aa5190ced148",
   "metadata": {},
   "outputs": [],
   "source": [
    "# Execute the query in asynchronous mode (working directly with jobs): Works in VOTABLE format\n",
    "\n",
    "service = pyvo.dal.TAPService(url_tap_service)\n",
    "job = service.submit_job(\"SELECT TOP 5 * FROM jplus.TileImage\")\n",
    "job.run()\n",
    "job.wait()\n",
    "job.raise_if_error()\n",
    "resultset = job.fetch_result()\n",
    "print(resultset)\n",
    "job.delete()"
   ]
  },
  {
   "cell_type": "markdown",
   "id": "f76d0460-c9ee-488c-84ad-c6214dfa7133",
   "metadata": {},
   "source": [
    "__Asynchronous mode: Example 3__"
   ]
  },
  {
   "cell_type": "code",
   "execution_count": null,
   "id": "4f52387c-c49b-44ba-9611-8d6eb18bb0b1",
   "metadata": {},
   "outputs": [],
   "source": [
    "# Execute the query in asynchronous mode (working directly with jobs): Works in FITS format\n",
    "\n",
    "service = pyvo.dal.TAPService(url_tap_service)\n",
    "job = service.submit_job(\"SELECT TOP 5 * FROM jplus.TileImage\", maxrec=300, format=\"FITS\")\n",
    "dest_name = \"data/TileImageData_anon.fits\"\n",
    "try:\n",
    "    job.run()\n",
    "    job.wait()\n",
    "    job.raise_if_error()\n",
    "    with open(dest_name, \"wb\") as dest:\n",
    "        response = requests.get(job.result_uri, verify=False)\n",
    "        response.raise_for_status()\n",
    "        dest.write(response.content)\n",
    "finally:\n",
    "    job.delete()"
   ]
  },
  {
   "cell_type": "markdown",
   "id": "61b36833-d07c-4686-99d4-b4066c913d3e",
   "metadata": {},
   "source": [
    "__Asynchronous mode: Example 4__"
   ]
  },
  {
   "cell_type": "code",
   "execution_count": null,
   "id": "0f7b9242-8cad-429f-be38-3ddd679cb400",
   "metadata": {},
   "outputs": [],
   "source": [
    "# Execute the query in asynchronous mode (working directly with jobs): Works in CSV format\n",
    "\n",
    "service = pyvo.dal.TAPService(url_tap_service)\n",
    "job = service.submit_job(\"SELECT * FROM jplus.TileImage\", maxrec=300, format=\"CSV\")\n",
    "dest_name = \"data/TileImageData_anon.csv\"\n",
    "try:\n",
    "    job.run()\n",
    "    job.wait()\n",
    "    job.raise_if_error()\n",
    "    with open(dest_name, \"w\") as dest:\n",
    "        response = requests.get(job.result_uri, verify=False)\n",
    "        response.raise_for_status()\n",
    "        dest.write(response.text)\n",
    "finally:\n",
    "    job.delete()"
   ]
  },
  {
   "cell_type": "code",
   "execution_count": null,
   "id": "78274344-5f42-42fc-9c70-ad933cea5a49",
   "metadata": {
    "tags": []
   },
   "outputs": [],
   "source": []
  }
 ],
 "metadata": {
  "kernelspec": {
   "display_name": "Python 3 (ipykernel)",
   "language": "python",
   "name": "python3"
  },
  "language_info": {
   "codemirror_mode": {
    "name": "ipython",
    "version": 3
   },
   "file_extension": ".py",
   "mimetype": "text/x-python",
   "name": "python",
   "nbconvert_exporter": "python",
   "pygments_lexer": "ipython3",
   "version": "3.9.7"
  }
 },
 "nbformat": 4,
 "nbformat_minor": 5
}
