{
 "cells": [
  {
   "cell_type": "markdown",
   "id": "55a3a885-06da-4abf-8ab3-47657697e3b8",
   "metadata": {},
   "source": [
    "# An example to show how to execute a simple Cone Search"
   ]
  },
  {
   "cell_type": "markdown",
   "id": "c4a73ed3-3f70-4499-881a-541050ea22d4",
   "metadata": {},
   "source": [
    "__DESCRIPTION__\n",
    "\n",
    "Script to execute a cone search using pyvo library to obtain data through archive Cone Search service\n",
    "\n",
    "@authors Tamara Civera & Javier Hernandez (CEFCA)\n"
   ]
  },
  {
   "cell_type": "code",
   "execution_count": 8,
   "id": "a6da923f-0e9a-4a71-ab09-d52579a90445",
   "metadata": {},
   "outputs": [],
   "source": [
    "# Imports\n",
    "import pyvo.dal"
   ]
  },
  {
   "cell_type": "markdown",
   "id": "bc3bbec7-4bba-4b13-aa96-05a355188ae8",
   "metadata": {},
   "source": [
    "__Execute a cone search query for J-PLUS DR2 in table MAGABDUALOBJ__"
   ]
  },
  {
   "cell_type": "code",
   "execution_count": 9,
   "id": "78bcfccd-928a-40ca-9a77-0aa06398b655",
   "metadata": {},
   "outputs": [],
   "source": [
    "# The cone serach is in position \"109.7378, 40.3736\", with a radius of 10\" and to obtain all columns\n",
    "\n",
    "url_scs = 'https://archive.cefca.es/catalogues/vo/cone/jplus-dr2/JPLUS.MAGABDUALOBJ'\n",
    "result = pyvo.dal.conesearch(url_scs, pos=[109.7378, 40.3736], radius=0.003, verbosity=3)"
   ]
  },
  {
   "cell_type": "code",
   "execution_count": 10,
   "id": "858f3e16-9db0-4432-9b9c-9633290c9aa2",
   "metadata": {},
   "outputs": [
    {
     "data": {
      "text/plain": [
       "[<FIELD ID=\"TILE_ID-NUMBER\" arraysize=\"*\" datatype=\"char\" name=\"TILE_ID-NUMBER\" ucd=\"ID_MAIN\"/>,\n",
       " <FIELD ID=\"TILE_ID\" datatype=\"int\" name=\"TILE_ID\" ucd=\"meta.id;obs.image;meta.main\"/>,\n",
       " <FIELD ID=\"NUMBER\" datatype=\"int\" name=\"NUMBER\" ucd=\"meta.id;meta.main\"/>,\n",
       " <FIELD ID=\"ALPHA_J2000\" datatype=\"double\" name=\"ALPHA_J2000\" ucd=\"POS_EQ_RA_MAIN\" unit=\"deg\"/>,\n",
       " <FIELD ID=\"DELTA_J2000\" datatype=\"double\" name=\"DELTA_J2000\" ucd=\"POS_EQ_DEC_MAIN\" unit=\"deg\"/>,\n",
       " <FIELD ID=\"hpix11\" datatype=\"int\" name=\"hpix11\" ucd=\"pos.healpix\"/>,\n",
       " <FIELD ID=\"X_IMAGE\" datatype=\"float\" name=\"X_IMAGE\" ucd=\"pos.cartesian.x\" unit=\"pixel\"/>,\n",
       " <FIELD ID=\"Y_IMAGE\" datatype=\"float\" name=\"Y_IMAGE\" ucd=\"pos.cartesian.y\" unit=\"pixel\"/>,\n",
       " <FIELD ID=\"R_EFF\" datatype=\"float\" name=\"R_EFF\" ucd=\"phys.size.radius\" unit=\"pixel\"/>,\n",
       " <FIELD ID=\"FWHM_WORLD\" datatype=\"float\" name=\"FWHM_WORLD\" ucd=\"phys.angSize\" unit=\"deg\"/>,\n",
       " <FIELD ID=\"A_WORLD\" datatype=\"float\" name=\"A_WORLD\" ucd=\"phys.angSize.smajAxis\" unit=\"deg\"/>,\n",
       " <FIELD ID=\"B_WORLD\" datatype=\"float\" name=\"B_WORLD\" ucd=\"phys.angSize.sminAxis\" unit=\"deg\"/>,\n",
       " <FIELD ID=\"THETA_J2000\" datatype=\"float\" name=\"THETA_J2000\" ucd=\"pos.posAng\" unit=\"deg\"/>,\n",
       " <FIELD ID=\"ISOAREA_WORLD\" datatype=\"float\" name=\"ISOAREA_WORLD\" ucd=\"phys.angArea\" unit=\"deg**2\"/>,\n",
       " <FIELD ID=\"RELERRA_WORLD\" datatype=\"float\" name=\"RELERRA_WORLD\" ucd=\"stat.error;phys.angSize.smajAxis\"/>,\n",
       " <FIELD ID=\"RELERRB_WORLD\" datatype=\"float\" name=\"RELERRB_WORLD\" ucd=\"stat.error;phys.angSize.sminAxis\"/>,\n",
       " <FIELD ID=\"ERRTHETA_J2000\" datatype=\"float\" name=\"ERRTHETA_J2000\" ucd=\"stat.error;pos.posAng\"/>,\n",
       " <FIELD ID=\"CLASS_STAR\" datatype=\"float\" name=\"CLASS_STAR\" ucd=\"src.class.starGalaxy\"/>,\n",
       " <FIELD ID=\"MAG_AUTO\" arraysize=\"12\" datatype=\"float\" name=\"MAG_AUTO\" ucd=\"phot.mag\" unit=\"mag\"/>,\n",
       " <FIELD ID=\"MAG_ISO\" arraysize=\"12\" datatype=\"float\" name=\"MAG_ISO\" ucd=\"phot.mag\" unit=\"mag\"/>,\n",
       " <FIELD ID=\"MAG_PETRO\" arraysize=\"12\" datatype=\"float\" name=\"MAG_PETRO\" ucd=\"phot.mag\" unit=\"mag\"/>,\n",
       " <FIELD ID=\"MU_MAX\" arraysize=\"12\" datatype=\"float\" name=\"MU_MAX\" ucd=\"phot.mag\" unit=\"mag/arcsec**2\"/>,\n",
       " <FIELD ID=\"PETRO_RADIUS\" datatype=\"float\" name=\"PETRO_RADIUS\" ucd=\"phys.size.radius\"/>,\n",
       " <FIELD ID=\"KRON_RADIUS\" datatype=\"float\" name=\"KRON_RADIUS\" ucd=\"phys.size.radius\"/>,\n",
       " <FIELD ID=\"MAG_APER_0_8\" arraysize=\"12\" datatype=\"float\" name=\"MAG_APER_0_8\" ucd=\"phot.mag\" unit=\"mag\"/>,\n",
       " <FIELD ID=\"MAG_APER_1_0\" arraysize=\"12\" datatype=\"float\" name=\"MAG_APER_1_0\" ucd=\"phot.mag\" unit=\"mag\"/>,\n",
       " <FIELD ID=\"MAG_APER_1_2\" arraysize=\"12\" datatype=\"float\" name=\"MAG_APER_1_2\" ucd=\"phot.mag\" unit=\"mag\"/>,\n",
       " <FIELD ID=\"MAG_APER_1_5\" arraysize=\"12\" datatype=\"float\" name=\"MAG_APER_1_5\" ucd=\"phot.mag\" unit=\"mag\"/>,\n",
       " <FIELD ID=\"MAG_APER_2_0\" arraysize=\"12\" datatype=\"float\" name=\"MAG_APER_2_0\" ucd=\"phot.mag\" unit=\"mag\"/>,\n",
       " <FIELD ID=\"MAG_APER_3_0\" arraysize=\"12\" datatype=\"float\" name=\"MAG_APER_3_0\" ucd=\"phot.mag\" unit=\"mag\"/>,\n",
       " <FIELD ID=\"MAG_APER_4_0\" arraysize=\"12\" datatype=\"float\" name=\"MAG_APER_4_0\" ucd=\"phot.mag\" unit=\"mag\"/>,\n",
       " <FIELD ID=\"MAG_APER_6_0\" arraysize=\"12\" datatype=\"float\" name=\"MAG_APER_6_0\" ucd=\"phot.mag\" unit=\"mag\"/>,\n",
       " <FIELD ID=\"MAG_ERR_AUTO\" arraysize=\"12\" datatype=\"float\" name=\"MAG_ERR_AUTO\" ucd=\"stat.error;phot.mag\"/>,\n",
       " <FIELD ID=\"MAG_ERR_ISO\" arraysize=\"12\" datatype=\"float\" name=\"MAG_ERR_ISO\" ucd=\"stat.error;phot.mag\"/>,\n",
       " <FIELD ID=\"MAG_ERR_PETRO\" arraysize=\"12\" datatype=\"float\" name=\"MAG_ERR_PETRO\" ucd=\"stat.error;phot.mag\"/>,\n",
       " <FIELD ID=\"MAG_ERR_APER_0_8\" arraysize=\"12\" datatype=\"float\" name=\"MAG_ERR_APER_0_8\" ucd=\"stat.error;phot.mag\"/>,\n",
       " <FIELD ID=\"MAG_ERR_APER_1_0\" arraysize=\"12\" datatype=\"float\" name=\"MAG_ERR_APER_1_0\" ucd=\"stat.error;phot.mag\"/>,\n",
       " <FIELD ID=\"MAG_ERR_APER_1_2\" arraysize=\"12\" datatype=\"float\" name=\"MAG_ERR_APER_1_2\" ucd=\"stat.error;phot.mag\"/>,\n",
       " <FIELD ID=\"MAG_ERR_APER_1_5\" arraysize=\"12\" datatype=\"float\" name=\"MAG_ERR_APER_1_5\" ucd=\"stat.error;phot.mag\"/>,\n",
       " <FIELD ID=\"MAG_ERR_APER_2_0\" arraysize=\"12\" datatype=\"float\" name=\"MAG_ERR_APER_2_0\" ucd=\"stat.error;phot.mag\"/>,\n",
       " <FIELD ID=\"MAG_ERR_APER_3_0\" arraysize=\"12\" datatype=\"float\" name=\"MAG_ERR_APER_3_0\" ucd=\"stat.error;phot.mag\"/>,\n",
       " <FIELD ID=\"MAG_ERR_APER_4_0\" arraysize=\"12\" datatype=\"float\" name=\"MAG_ERR_APER_4_0\" ucd=\"stat.error;phot.mag\"/>,\n",
       " <FIELD ID=\"MAG_ERR_APER_6_0\" arraysize=\"12\" datatype=\"float\" name=\"MAG_ERR_APER_6_0\" ucd=\"stat.error;phot.mag\"/>,\n",
       " <FIELD ID=\"FLAGS\" arraysize=\"12\" datatype=\"int\" name=\"FLAGS\" ucd=\"meta.code\"/>,\n",
       " <FIELD ID=\"NORM_WMAP_VAL\" arraysize=\"12\" datatype=\"float\" name=\"NORM_WMAP_VAL\"/>,\n",
       " <FIELD ID=\"MASK_FLAGS\" arraysize=\"12\" datatype=\"int\" name=\"MASK_FLAGS\"/>,\n",
       " <FIELD ID=\"SINGLE_DETECT\" arraysize=\"12\" datatype=\"int\" name=\"SINGLE_DETECT\"/>,\n",
       " <FIELD ID=\"MAG_ISO_WORSTPSF\" arraysize=\"12\" datatype=\"float\" name=\"MAG_ISO_WORSTPSF\" ucd=\"phot.mag\" unit=\"mag\"/>,\n",
       " <FIELD ID=\"MAG_ERR_ISO_WORSTPSF\" arraysize=\"12\" datatype=\"float\" name=\"MAG_ERR_ISO_WORSTPSF\" ucd=\"stat.error;phot.mag\"/>,\n",
       " <FIELD ID=\"MAG_PSFCOR\" arraysize=\"12\" datatype=\"float\" name=\"MAG_PSFCOR\" ucd=\"phot.mag\" unit=\"mag\"/>,\n",
       " <FIELD ID=\"MAG_ERR_PSFCOR\" arraysize=\"12\" datatype=\"float\" name=\"MAG_ERR_PSFCOR\" ucd=\"stat.error;phot.mag\"/>,\n",
       " <FIELD ID=\"MAG_APER3_WORSTPSF\" arraysize=\"12\" datatype=\"float\" name=\"MAG_APER3_WORSTPSF\" ucd=\"phot.mag\" unit=\"mag\"/>,\n",
       " <FIELD ID=\"MAG_ERR_APER3_WORSTPSF\" arraysize=\"12\" datatype=\"float\" name=\"MAG_ERR_APER3_WORSTPSF\" ucd=\"stat.error;phot.mag\"/>]"
      ]
     },
     "execution_count": 10,
     "metadata": {},
     "output_type": "execute_result"
    }
   ],
   "source": [
    "# Results table FIELDS (Columns) descriptions (in xml)\n",
    "\n",
    "result.fielddescs"
   ]
  },
  {
   "cell_type": "code",
   "execution_count": 11,
   "id": "85b9aaba-4682-4056-8281-a11930ad55b0",
   "metadata": {},
   "outputs": [
    {
     "data": {
      "text/html": [
       "<div><i>Table length=1</i>\n",
       "<table id=\"table139736845345424\" class=\"table-striped table-bordered table-condensed\">\n",
       "<thead><tr><th>TILE_ID-NUMBER</th><th>TILE_ID</th><th>NUMBER</th><th>ALPHA_J2000</th><th>DELTA_J2000</th><th>hpix11</th><th>X_IMAGE</th><th>Y_IMAGE</th><th>R_EFF</th><th>FWHM_WORLD</th><th>A_WORLD</th><th>B_WORLD</th><th>THETA_J2000</th><th>ISOAREA_WORLD</th><th>RELERRA_WORLD</th><th>RELERRB_WORLD</th><th>ERRTHETA_J2000</th><th>CLASS_STAR</th><th>MAG_AUTO</th><th>MAG_ISO</th><th>MAG_PETRO</th><th>MU_MAX</th><th>PETRO_RADIUS</th><th>KRON_RADIUS</th><th>MAG_APER_0_8</th><th>MAG_APER_1_0</th><th>MAG_APER_1_2</th><th>MAG_APER_1_5</th><th>MAG_APER_2_0</th><th>MAG_APER_3_0</th><th>MAG_APER_4_0</th><th>MAG_APER_6_0</th><th>MAG_ERR_AUTO</th><th>MAG_ERR_ISO</th><th>MAG_ERR_PETRO</th><th>MAG_ERR_APER_0_8</th><th>MAG_ERR_APER_1_0</th><th>MAG_ERR_APER_1_2</th><th>MAG_ERR_APER_1_5</th><th>MAG_ERR_APER_2_0</th><th>MAG_ERR_APER_3_0</th><th>MAG_ERR_APER_4_0</th><th>MAG_ERR_APER_6_0</th><th>FLAGS</th><th>NORM_WMAP_VAL</th><th>MASK_FLAGS</th><th>SINGLE_DETECT</th><th>MAG_ISO_WORSTPSF</th><th>MAG_ERR_ISO_WORSTPSF</th><th>MAG_PSFCOR</th><th>MAG_ERR_PSFCOR</th><th>MAG_APER3_WORSTPSF</th><th>MAG_ERR_APER3_WORSTPSF</th></tr></thead>\n",
       "<thead><tr><th></th><th></th><th></th><th>deg</th><th>deg</th><th></th><th>pixel</th><th>pixel</th><th>pixel</th><th>deg</th><th>deg</th><th>deg</th><th>deg</th><th>deg**2</th><th></th><th></th><th></th><th></th><th>mag</th><th>mag</th><th>mag</th><th>mag/arcsec**2</th><th></th><th></th><th>mag</th><th>mag</th><th>mag</th><th>mag</th><th>mag</th><th>mag</th><th>mag</th><th>mag</th><th></th><th></th><th></th><th></th><th></th><th></th><th></th><th></th><th></th><th></th><th></th><th></th><th></th><th></th><th></th><th>mag</th><th></th><th>mag</th><th></th><th>mag</th><th></th></tr></thead>\n",
       "<thead><tr><th>object</th><th>int32</th><th>int32</th><th>float64</th><th>float64</th><th>int32</th><th>float32</th><th>float32</th><th>float32</th><th>float32</th><th>float32</th><th>float32</th><th>float32</th><th>float32</th><th>float32</th><th>float32</th><th>float32</th><th>float32</th><th>float32[12]</th><th>float32[12]</th><th>float32[12]</th><th>float32[12]</th><th>float32</th><th>float32</th><th>float32[12]</th><th>float32[12]</th><th>float32[12]</th><th>float32[12]</th><th>float32[12]</th><th>float32[12]</th><th>float32[12]</th><th>float32[12]</th><th>float32[12]</th><th>float32[12]</th><th>float32[12]</th><th>float32[12]</th><th>float32[12]</th><th>float32[12]</th><th>float32[12]</th><th>float32[12]</th><th>float32[12]</th><th>float32[12]</th><th>float32[12]</th><th>int32[12]</th><th>float32[12]</th><th>int32[12]</th><th>int32[12]</th><th>float32[12]</th><th>float32[12]</th><th>float32[12]</th><th>float32[12]</th><th>float32[12]</th><th>float32[12]</th></tr></thead>\n",
       "<tr><td>65287-20263</td><td>65287</td><td>20263</td><td>109.737815137</td><td>40.3736469631</td><td>6900754</td><td>3729.5898</td><td>6031.7007</td><td>4.387146</td><td>0.0012783952</td><td>0.00036836974</td><td>0.00034950394</td><td>-6.786671</td><td>5.7165066e-06</td><td>0.019669</td><td>0.020477</td><td>-11.117188</td><td>0.027054</td><td>16.686577 .. 16.03347</td><td>16.756153 .. 16.106651</td><td>16.645996 .. 16.049501</td><td>19.36753 .. 18.703896</td><td>5.9399996</td><td>4.189923</td><td>20.283176 .. 19.512196</td><td>19.861155 .. 19.095917</td><td>19.492165 .. 18.729122</td><td>19.081825 .. 18.322357</td><td>18.587706 .. 17.828876</td><td>17.982426 .. 17.274353</td><td>17.637062 .. 16.958176</td><td>17.269955 .. 16.595772</td><td>0.022216372 .. 0.032206286</td><td>0.015606132 .. 0.02244831</td><td>0.030814655 .. 0.046818394</td><td>0.0705755 .. 0.08124466</td><td>0.053942215 .. 0.06305408</td><td>0.040556062 .. 0.04767988</td><td>0.03111286 .. 0.036944453</td><td>0.024088446 .. 0.028462138</td><td>0.017577607 .. 0.021818765</td><td>0.014993153 .. 0.019532515</td><td>0.013883162 .. 0.01862133</td><td>3 .. 3</td><td>0.97032756 .. 0.980463</td><td>0 .. 0</td><td>20260 .. 20049</td><td>16.781528 .. 16.102915</td><td>0.015722102 .. 0.020460268</td><td>17.05146 .. 16.38176</td><td>0.0138914455 .. 0.019201174</td><td>18.071854 .. 17.367306</td><td>0.01867103 .. 0.023110991</td></tr>\n",
       "</table></div>"
      ],
      "text/plain": [
       "<Table length=1>\n",
       "TILE_ID-NUMBER TILE_ID NUMBER  ALPHA_J2000   DELTA_J2000   hpix11 ...    MAG_ERR_ISO_WORSTPSF         MAG_PSFCOR             MAG_ERR_PSFCOR         MAG_APER3_WORSTPSF     MAG_ERR_APER3_WORSTPSF \n",
       "                                   deg           deg              ...                                    mag                                               mag                                    \n",
       "    object      int32  int32     float64       float64     int32  ...        float32[12]             float32[12]              float32[12]              float32[12]              float32[12]       \n",
       "-------------- ------- ------ ------------- ------------- ------- ... -------------------------- -------------------- --------------------------- ---------------------- -------------------------\n",
       "   65287-20263   65287  20263 109.737815137 40.3736469631 6900754 ... 0.015722102 .. 0.020460268 17.05146 .. 16.38176 0.0138914455 .. 0.019201174 18.071854 .. 17.367306 0.01867103 .. 0.023110991"
      ]
     },
     "execution_count": 11,
     "metadata": {},
     "output_type": "execute_result"
    }
   ],
   "source": [
    "# Visual inspection of the results table and table for astropy\n",
    "\n",
    "result.to_table()"
   ]
  },
  {
   "cell_type": "markdown",
   "id": "c79a3751-feac-4b2e-aad2-aa501b56bfb2",
   "metadata": {},
   "source": [
    "__Send results to VO compatible applications like TOPCAT or Aladin__"
   ]
  },
  {
   "cell_type": "code",
   "execution_count": 12,
   "id": "ee651990-7f15-471f-98b2-67158ac88d99",
   "metadata": {},
   "outputs": [
    {
     "ename": "SAMPProxyError",
     "evalue": "<SAMPProxyError 1: 'org.astrogrid.samp.client.SampException: Client Hub is not subscribed to table.load.votable'>",
     "output_type": "error",
     "traceback": [
      "\u001b[0;31m---------------------------------------------------------------------------\u001b[0m",
      "\u001b[0;31mFault\u001b[0m                                     Traceback (most recent call last)",
      "File \u001b[0;32m~/miniconda3/envs/jupyter_notebooks/lib/python3.10/site-packages/astropy/samp/utils.py:62\u001b[0m, in \u001b[0;36m_ServerProxyPoolMethod.__call__\u001b[0;34m(self, *args, **kwrds)\u001b[0m\n\u001b[1;32m     61\u001b[0m \u001b[38;5;28;01mtry\u001b[39;00m:\n\u001b[0;32m---> 62\u001b[0m     response \u001b[38;5;241m=\u001b[39m \u001b[43mfunction\u001b[49m\u001b[43m(\u001b[49m\u001b[38;5;241;43m*\u001b[39;49m\u001b[43margs\u001b[49m\u001b[43m,\u001b[49m\u001b[43m \u001b[49m\u001b[38;5;241;43m*\u001b[39;49m\u001b[38;5;241;43m*\u001b[39;49m\u001b[43mkwrds\u001b[49m\u001b[43m)\u001b[49m\n\u001b[1;32m     63\u001b[0m \u001b[38;5;28;01mexcept\u001b[39;00m xmlrpc\u001b[38;5;241m.\u001b[39mFault \u001b[38;5;28;01mas\u001b[39;00m exc:\n",
      "File \u001b[0;32m~/miniconda3/envs/jupyter_notebooks/lib/python3.10/xmlrpc/client.py:1122\u001b[0m, in \u001b[0;36m_Method.__call__\u001b[0;34m(self, *args)\u001b[0m\n\u001b[1;32m   1121\u001b[0m \u001b[38;5;28;01mdef\u001b[39;00m \u001b[38;5;21m__call__\u001b[39m(\u001b[38;5;28mself\u001b[39m, \u001b[38;5;241m*\u001b[39margs):\n\u001b[0;32m-> 1122\u001b[0m     \u001b[38;5;28;01mreturn\u001b[39;00m \u001b[38;5;28;43mself\u001b[39;49m\u001b[38;5;241;43m.\u001b[39;49m\u001b[43m__send\u001b[49m\u001b[43m(\u001b[49m\u001b[38;5;28;43mself\u001b[39;49m\u001b[38;5;241;43m.\u001b[39;49m\u001b[43m__name\u001b[49m\u001b[43m,\u001b[49m\u001b[43m \u001b[49m\u001b[43margs\u001b[49m\u001b[43m)\u001b[49m\n",
      "File \u001b[0;32m~/miniconda3/envs/jupyter_notebooks/lib/python3.10/xmlrpc/client.py:1464\u001b[0m, in \u001b[0;36mServerProxy.__request\u001b[0;34m(self, methodname, params)\u001b[0m\n\u001b[1;32m   1461\u001b[0m request \u001b[38;5;241m=\u001b[39m dumps(params, methodname, encoding\u001b[38;5;241m=\u001b[39m\u001b[38;5;28mself\u001b[39m\u001b[38;5;241m.\u001b[39m__encoding,\n\u001b[1;32m   1462\u001b[0m                 allow_none\u001b[38;5;241m=\u001b[39m\u001b[38;5;28mself\u001b[39m\u001b[38;5;241m.\u001b[39m__allow_none)\u001b[38;5;241m.\u001b[39mencode(\u001b[38;5;28mself\u001b[39m\u001b[38;5;241m.\u001b[39m__encoding, \u001b[38;5;124m'\u001b[39m\u001b[38;5;124mxmlcharrefreplace\u001b[39m\u001b[38;5;124m'\u001b[39m)\n\u001b[0;32m-> 1464\u001b[0m response \u001b[38;5;241m=\u001b[39m \u001b[38;5;28;43mself\u001b[39;49m\u001b[38;5;241;43m.\u001b[39;49m\u001b[43m__transport\u001b[49m\u001b[38;5;241;43m.\u001b[39;49m\u001b[43mrequest\u001b[49m\u001b[43m(\u001b[49m\n\u001b[1;32m   1465\u001b[0m \u001b[43m    \u001b[49m\u001b[38;5;28;43mself\u001b[39;49m\u001b[38;5;241;43m.\u001b[39;49m\u001b[43m__host\u001b[49m\u001b[43m,\u001b[49m\n\u001b[1;32m   1466\u001b[0m \u001b[43m    \u001b[49m\u001b[38;5;28;43mself\u001b[39;49m\u001b[38;5;241;43m.\u001b[39;49m\u001b[43m__handler\u001b[49m\u001b[43m,\u001b[49m\n\u001b[1;32m   1467\u001b[0m \u001b[43m    \u001b[49m\u001b[43mrequest\u001b[49m\u001b[43m,\u001b[49m\n\u001b[1;32m   1468\u001b[0m \u001b[43m    \u001b[49m\u001b[43mverbose\u001b[49m\u001b[38;5;241;43m=\u001b[39;49m\u001b[38;5;28;43mself\u001b[39;49m\u001b[38;5;241;43m.\u001b[39;49m\u001b[43m__verbose\u001b[49m\n\u001b[1;32m   1469\u001b[0m \u001b[43m    \u001b[49m\u001b[43m)\u001b[49m\n\u001b[1;32m   1471\u001b[0m \u001b[38;5;28;01mif\u001b[39;00m \u001b[38;5;28mlen\u001b[39m(response) \u001b[38;5;241m==\u001b[39m \u001b[38;5;241m1\u001b[39m:\n",
      "File \u001b[0;32m~/miniconda3/envs/jupyter_notebooks/lib/python3.10/xmlrpc/client.py:1166\u001b[0m, in \u001b[0;36mTransport.request\u001b[0;34m(self, host, handler, request_body, verbose)\u001b[0m\n\u001b[1;32m   1165\u001b[0m \u001b[38;5;28;01mtry\u001b[39;00m:\n\u001b[0;32m-> 1166\u001b[0m     \u001b[38;5;28;01mreturn\u001b[39;00m \u001b[38;5;28;43mself\u001b[39;49m\u001b[38;5;241;43m.\u001b[39;49m\u001b[43msingle_request\u001b[49m\u001b[43m(\u001b[49m\u001b[43mhost\u001b[49m\u001b[43m,\u001b[49m\u001b[43m \u001b[49m\u001b[43mhandler\u001b[49m\u001b[43m,\u001b[49m\u001b[43m \u001b[49m\u001b[43mrequest_body\u001b[49m\u001b[43m,\u001b[49m\u001b[43m \u001b[49m\u001b[43mverbose\u001b[49m\u001b[43m)\u001b[49m\n\u001b[1;32m   1167\u001b[0m \u001b[38;5;28;01mexcept\u001b[39;00m http\u001b[38;5;241m.\u001b[39mclient\u001b[38;5;241m.\u001b[39mRemoteDisconnected:\n",
      "File \u001b[0;32m~/miniconda3/envs/jupyter_notebooks/lib/python3.10/xmlrpc/client.py:1182\u001b[0m, in \u001b[0;36mTransport.single_request\u001b[0;34m(self, host, handler, request_body, verbose)\u001b[0m\n\u001b[1;32m   1181\u001b[0m         \u001b[38;5;28mself\u001b[39m\u001b[38;5;241m.\u001b[39mverbose \u001b[38;5;241m=\u001b[39m verbose\n\u001b[0;32m-> 1182\u001b[0m         \u001b[38;5;28;01mreturn\u001b[39;00m \u001b[38;5;28;43mself\u001b[39;49m\u001b[38;5;241;43m.\u001b[39;49m\u001b[43mparse_response\u001b[49m\u001b[43m(\u001b[49m\u001b[43mresp\u001b[49m\u001b[43m)\u001b[49m\n\u001b[1;32m   1184\u001b[0m \u001b[38;5;28;01mexcept\u001b[39;00m Fault:\n",
      "File \u001b[0;32m~/miniconda3/envs/jupyter_notebooks/lib/python3.10/xmlrpc/client.py:1354\u001b[0m, in \u001b[0;36mTransport.parse_response\u001b[0;34m(self, response)\u001b[0m\n\u001b[1;32m   1352\u001b[0m p\u001b[38;5;241m.\u001b[39mclose()\n\u001b[0;32m-> 1354\u001b[0m \u001b[38;5;28;01mreturn\u001b[39;00m \u001b[43mu\u001b[49m\u001b[38;5;241;43m.\u001b[39;49m\u001b[43mclose\u001b[49m\u001b[43m(\u001b[49m\u001b[43m)\u001b[49m\n",
      "File \u001b[0;32m~/miniconda3/envs/jupyter_notebooks/lib/python3.10/xmlrpc/client.py:668\u001b[0m, in \u001b[0;36mUnmarshaller.close\u001b[0;34m(self)\u001b[0m\n\u001b[1;32m    667\u001b[0m \u001b[38;5;28;01mif\u001b[39;00m \u001b[38;5;28mself\u001b[39m\u001b[38;5;241m.\u001b[39m_type \u001b[38;5;241m==\u001b[39m \u001b[38;5;124m\"\u001b[39m\u001b[38;5;124mfault\u001b[39m\u001b[38;5;124m\"\u001b[39m:\n\u001b[0;32m--> 668\u001b[0m     \u001b[38;5;28;01mraise\u001b[39;00m Fault(\u001b[38;5;241m*\u001b[39m\u001b[38;5;241m*\u001b[39m\u001b[38;5;28mself\u001b[39m\u001b[38;5;241m.\u001b[39m_stack[\u001b[38;5;241m0\u001b[39m])\n\u001b[1;32m    669\u001b[0m \u001b[38;5;28;01mreturn\u001b[39;00m \u001b[38;5;28mtuple\u001b[39m(\u001b[38;5;28mself\u001b[39m\u001b[38;5;241m.\u001b[39m_stack)\n",
      "\u001b[0;31mFault\u001b[0m: <Fault 1: 'org.astrogrid.samp.client.SampException: Client Hub is not subscribed to table.load.votable'>",
      "\nDuring handling of the above exception, another exception occurred:\n",
      "\u001b[0;31mSAMPProxyError\u001b[0m                            Traceback (most recent call last)",
      "Input \u001b[0;32mIn [12]\u001b[0m, in \u001b[0;36m<cell line: 3>\u001b[0;34m()\u001b[0m\n\u001b[1;32m      1\u001b[0m \u001b[38;5;66;03m# To send result to VO compatible applications like TOPCAT, Aladin,...\u001b[39;00m\n\u001b[0;32m----> 3\u001b[0m \u001b[43mresult\u001b[49m\u001b[38;5;241;43m.\u001b[39;49m\u001b[43mbroadcast_samp\u001b[49m\u001b[43m(\u001b[49m\u001b[43m)\u001b[49m\n",
      "File \u001b[0;32m~/miniconda3/envs/jupyter_notebooks/lib/python3.10/site-packages/pyvo/dal/query.py:620\u001b[0m, in \u001b[0;36mDALResults.broadcast_samp\u001b[0;34m(self, client_name)\u001b[0m\n\u001b[1;32m    616\u001b[0m \u001b[38;5;124;03m\"\"\"\u001b[39;00m\n\u001b[1;32m    617\u001b[0m \u001b[38;5;124;03mBroadcast the table to ``client_name`` via SAMP\u001b[39;00m\n\u001b[1;32m    618\u001b[0m \u001b[38;5;124;03m\"\"\"\u001b[39;00m\n\u001b[1;32m    619\u001b[0m \u001b[38;5;28;01mwith\u001b[39;00m samp\u001b[38;5;241m.\u001b[39mconnection() \u001b[38;5;28;01mas\u001b[39;00m conn:\n\u001b[0;32m--> 620\u001b[0m     \u001b[43msamp\u001b[49m\u001b[38;5;241;43m.\u001b[39;49m\u001b[43msend_table_to\u001b[49m\u001b[43m(\u001b[49m\n\u001b[1;32m    621\u001b[0m \u001b[43m        \u001b[49m\u001b[43mconn\u001b[49m\u001b[43m,\u001b[49m\u001b[43m \u001b[49m\u001b[38;5;28;43mself\u001b[39;49m\u001b[38;5;241;43m.\u001b[39;49m\u001b[43mto_table\u001b[49m\u001b[43m(\u001b[49m\u001b[43m)\u001b[49m\u001b[43m,\u001b[49m\n\u001b[1;32m    622\u001b[0m \u001b[43m        \u001b[49m\u001b[43mclient_name\u001b[49m\u001b[38;5;241;43m=\u001b[39;49m\u001b[43mclient_name\u001b[49m\u001b[43m,\u001b[49m\u001b[43m \u001b[49m\u001b[43mname\u001b[49m\u001b[38;5;241;43m=\u001b[39;49m\u001b[38;5;28;43mself\u001b[39;49m\u001b[38;5;241;43m.\u001b[39;49m\u001b[43mqueryurl\u001b[49m\u001b[43m)\u001b[49m\n",
      "File \u001b[0;32m~/miniconda3/envs/jupyter_notebooks/lib/python3.10/site-packages/pyvo/samp.py:45\u001b[0m, in \u001b[0;36msend_table_to\u001b[0;34m(conn, table, client_name, name)\u001b[0m\n\u001b[1;32m     43\u001b[0m \u001b[38;5;28;01mif\u001b[39;00m client_name \u001b[38;5;129;01mis\u001b[39;00m \u001b[38;5;28;01mNone\u001b[39;00m:\n\u001b[1;32m     44\u001b[0m     \u001b[38;5;28;01mfor\u001b[39;00m client_id \u001b[38;5;129;01min\u001b[39;00m conn\u001b[38;5;241m.\u001b[39mget_registered_clients():\n\u001b[0;32m---> 45\u001b[0m         \u001b[43mconn\u001b[49m\u001b[38;5;241;43m.\u001b[39;49m\u001b[43mcall_and_wait\u001b[49m\u001b[43m(\u001b[49m\u001b[43mclient_id\u001b[49m\u001b[43m,\u001b[49m\u001b[43m \u001b[49m\u001b[43mmessage\u001b[49m\u001b[43m,\u001b[49m\u001b[43m \u001b[49m\u001b[38;5;124;43m\"\u001b[39;49m\u001b[38;5;124;43m10\u001b[39;49m\u001b[38;5;124;43m\"\u001b[39;49m\u001b[43m)\u001b[49m\n\u001b[1;32m     46\u001b[0m \u001b[38;5;28;01melse\u001b[39;00m:\n\u001b[1;32m     47\u001b[0m     client_id \u001b[38;5;241m=\u001b[39m find_client_id(conn, client_name)\n",
      "File \u001b[0;32m~/miniconda3/envs/jupyter_notebooks/lib/python3.10/site-packages/astropy/samp/integrated_client.py:349\u001b[0m, in \u001b[0;36mSAMPIntegratedClient.call_and_wait\u001b[0;34m(self, recipient_id, message, timeout)\u001b[0m\n\u001b[1;32m    345\u001b[0m \u001b[38;5;28;01mdef\u001b[39;00m \u001b[38;5;21mcall_and_wait\u001b[39m(\u001b[38;5;28mself\u001b[39m, recipient_id, message, timeout):\n\u001b[1;32m    346\u001b[0m     \u001b[38;5;124;03m\"\"\"\u001b[39;00m\n\u001b[1;32m    347\u001b[0m \u001b[38;5;124;03m    Proxy to ``callAndWait`` SAMP Hub method.\u001b[39;00m\n\u001b[1;32m    348\u001b[0m \u001b[38;5;124;03m    \"\"\"\u001b[39;00m\n\u001b[0;32m--> 349\u001b[0m     \u001b[38;5;28;01mreturn\u001b[39;00m \u001b[38;5;28;43mself\u001b[39;49m\u001b[38;5;241;43m.\u001b[39;49m\u001b[43mhub\u001b[49m\u001b[38;5;241;43m.\u001b[39;49m\u001b[43mcall_and_wait\u001b[49m\u001b[43m(\u001b[49m\n\u001b[1;32m    350\u001b[0m \u001b[43m        \u001b[49m\u001b[38;5;28;43mself\u001b[39;49m\u001b[38;5;241;43m.\u001b[39;49m\u001b[43mget_private_key\u001b[49m\u001b[43m(\u001b[49m\u001b[43m)\u001b[49m\u001b[43m,\u001b[49m\u001b[43m \u001b[49m\u001b[43mrecipient_id\u001b[49m\u001b[43m,\u001b[49m\u001b[43m \u001b[49m\u001b[43mmessage\u001b[49m\u001b[43m,\u001b[49m\u001b[43m \u001b[49m\u001b[43mtimeout\u001b[49m\n\u001b[1;32m    351\u001b[0m \u001b[43m    \u001b[49m\u001b[43m)\u001b[49m\n",
      "File \u001b[0;32m~/miniconda3/envs/jupyter_notebooks/lib/python3.10/site-packages/astropy/samp/hub_proxy.py:192\u001b[0m, in \u001b[0;36mSAMPHubProxy.call_and_wait\u001b[0;34m(self, private_key, recipient_id, message, timeout)\u001b[0m\n\u001b[1;32m    188\u001b[0m \u001b[38;5;28;01mdef\u001b[39;00m \u001b[38;5;21mcall_and_wait\u001b[39m(\u001b[38;5;28mself\u001b[39m, private_key, recipient_id, message, timeout):\n\u001b[1;32m    189\u001b[0m     \u001b[38;5;124;03m\"\"\"\u001b[39;00m\n\u001b[1;32m    190\u001b[0m \u001b[38;5;124;03m    Proxy to ``callAndWait`` SAMP Hub method.\u001b[39;00m\n\u001b[1;32m    191\u001b[0m \u001b[38;5;124;03m    \"\"\"\u001b[39;00m\n\u001b[0;32m--> 192\u001b[0m     \u001b[38;5;28;01mreturn\u001b[39;00m \u001b[38;5;28;43mself\u001b[39;49m\u001b[38;5;241;43m.\u001b[39;49m\u001b[43m_samp_hub\u001b[49m\u001b[38;5;241;43m.\u001b[39;49m\u001b[43mcallAndWait\u001b[49m\u001b[43m(\u001b[49m\u001b[43mprivate_key\u001b[49m\u001b[43m,\u001b[49m\u001b[43m \u001b[49m\u001b[43mrecipient_id\u001b[49m\u001b[43m,\u001b[49m\u001b[43m \u001b[49m\u001b[43mmessage\u001b[49m\u001b[43m,\u001b[49m\u001b[43m \u001b[49m\u001b[43mtimeout\u001b[49m\u001b[43m)\u001b[49m\n",
      "File \u001b[0;32m~/miniconda3/envs/jupyter_notebooks/lib/python3.10/site-packages/astropy/samp/utils.py:64\u001b[0m, in \u001b[0;36m_ServerProxyPoolMethod.__call__\u001b[0;34m(self, *args, **kwrds)\u001b[0m\n\u001b[1;32m     62\u001b[0m     response \u001b[38;5;241m=\u001b[39m function(\u001b[38;5;241m*\u001b[39margs, \u001b[38;5;241m*\u001b[39m\u001b[38;5;241m*\u001b[39mkwrds)\n\u001b[1;32m     63\u001b[0m \u001b[38;5;28;01mexcept\u001b[39;00m xmlrpc\u001b[38;5;241m.\u001b[39mFault \u001b[38;5;28;01mas\u001b[39;00m exc:\n\u001b[0;32m---> 64\u001b[0m     \u001b[38;5;28;01mraise\u001b[39;00m SAMPProxyError(exc\u001b[38;5;241m.\u001b[39mfaultCode, exc\u001b[38;5;241m.\u001b[39mfaultString)\n\u001b[1;32m     65\u001b[0m \u001b[38;5;28;01mfinally\u001b[39;00m:\n\u001b[1;32m     66\u001b[0m     \u001b[38;5;28mself\u001b[39m\u001b[38;5;241m.\u001b[39m__proxies\u001b[38;5;241m.\u001b[39mput(proxy)\n",
      "\u001b[0;31mSAMPProxyError\u001b[0m: <SAMPProxyError 1: 'org.astrogrid.samp.client.SampException: Client Hub is not subscribed to table.load.votable'>"
     ]
    }
   ],
   "source": [
    "# To send result to VO compatible applications like TOPCAT, Aladin,...\n",
    "\n",
    "result.broadcast_samp()  "
   ]
  },
  {
   "cell_type": "code",
   "execution_count": null,
   "id": "875f2fad-9925-4cb0-8774-c19fa107e566",
   "metadata": {},
   "outputs": [],
   "source": []
  },
  {
   "cell_type": "code",
   "execution_count": null,
   "id": "7cf95ce0",
   "metadata": {},
   "outputs": [],
   "source": []
  }
 ],
 "metadata": {
  "kernelspec": {
   "display_name": "Python 3 (ipykernel)",
   "language": "python",
   "name": "python3"
  },
  "language_info": {
   "codemirror_mode": {
    "name": "ipython",
    "version": 3
   },
   "file_extension": ".py",
   "mimetype": "text/x-python",
   "name": "python",
   "nbconvert_exporter": "python",
   "pygments_lexer": "ipython3",
   "version": "3.10.4"
  }
 },
 "nbformat": 4,
 "nbformat_minor": 5
}
