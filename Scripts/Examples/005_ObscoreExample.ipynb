{
 "cells": [
  {
   "cell_type": "markdown",
   "id": "d1465992-11c1-4ca4-965f-38830b9ff076",
   "metadata": {},
   "source": [
    "# An example to show how to use Obscore model to search for all the images in a coordinates"
   ]
  },
  {
   "cell_type": "markdown",
   "id": "dc320ccb-544f-4476-90cf-746ecad549b7",
   "metadata": {},
   "source": [
    "__DESCRIPTION__\n",
    "\n",
    "Script to execute a query using pyvo library to obtain all the TAP services registered in the RoF that support obscore datamodel and search all the images\n",
    "in a given coordinates\n",
    "\n",
    "@authors Tamara Civera & Javier Hernandez (CEFCA)\n"
   ]
  },
  {
   "cell_type": "code",
   "execution_count": null,
   "id": "f1a2fc0c-003e-4947-8794-04b6fbcacb30",
   "metadata": {},
   "outputs": [],
   "source": [
    "# Imports\n",
    "\n",
    "import pyvo"
   ]
  },
  {
   "cell_type": "code",
   "execution_count": null,
   "id": "a0dea1a1-3479-4a90-88ba-4c3fd5b14777",
   "metadata": {},
   "outputs": [],
   "source": [
    "# To avoid warnings\n",
    "\n",
    "import warnings\n",
    "warnings.simplefilter(\"ignore\")"
   ]
  },
  {
   "cell_type": "markdown",
   "id": "043714ea-5be1-4c93-bb6f-e00305f76914",
   "metadata": {},
   "source": [
    "__Obtain TAP services with obscore model from the RoR__"
   ]
  },
  {
   "cell_type": "code",
   "execution_count": null,
   "id": "9fca1ff8-1be5-41c6-88d9-4fd0b07e2323",
   "metadata": {},
   "outputs": [],
   "source": [
    "# Obtains all the TAP services with obscore model from the RoR\n",
    "\n",
    "obscore_services = pyvo.registry.search(datamodel=\"obscore\", servicetype=\"tap\")\n",
    "print(\"Number of registries found: {0}.\".format(len(obscore_services.to_table())))"
   ]
  },
  {
   "cell_type": "code",
   "execution_count": null,
   "id": "294ab8af-4639-4a3d-90cb-9850a4575d5b",
   "metadata": {},
   "outputs": [],
   "source": [
    "# Obtains all the TAP services with obscore model and TAP service related with J-PLUS and HST\n",
    "\n",
    "obscore_services = pyvo.registry.search(datamodel=\"obscore\", servicetype=\"tap\", keywords=[\"J-PLUS\", \"HST\"])\n",
    "obsvc_result = obscore_services.to_table()\n",
    "print(obsvc_result)"
   ]
  },
  {
   "cell_type": "markdown",
   "id": "4b8799d3-d612-4aa1-982b-e9e55fbb9c05",
   "metadata": {},
   "source": [
    "__Execute TAP query in Obscore in all the TAP services__"
   ]
  },
  {
   "cell_type": "code",
   "execution_count": null,
   "id": "9b28c75d-5d6d-48e0-b710-6782669afd34",
   "metadata": {},
   "outputs": [],
   "source": [
    "# Executes a TAP query to all of this TAP services to obtain images in the  coordinates 339.26709167, 34.41591944\n",
    "\n",
    "obscore_query = \"SELECT * FROM ivoa.obscore WHERE 1 = CONTAINS(POINT('ICRS', 339.26709167, 34.41591944), s_region) AND dataproduct_type = 'image'\" \n",
    "\n",
    "\n",
    "for service in obscore_services:\n",
    "    print(\"SERVICE: \", service.short_name)\n",
    "    try:\n",
    "        data = service.service.search(obscore_query)\n",
    "        print(data)\n",
    "        data.broadcast_samp(\"Aladin\")\n",
    "    except Exception as e:\n",
    "        print(\"ERROR\", e)\n"
   ]
  },
  {
   "cell_type": "code",
   "execution_count": null,
   "id": "0cc5c057-4bab-4a94-afa9-9f72d2bfb83f",
   "metadata": {},
   "outputs": [],
   "source": []
  },
  {
   "cell_type": "code",
   "execution_count": null,
   "id": "b767b1e9-84f5-4560-bb5c-1f538af38526",
   "metadata": {},
   "outputs": [],
   "source": []
  }
 ],
 "metadata": {
  "kernelspec": {
   "display_name": "Python 3 (ipykernel)",
   "language": "python",
   "name": "python3"
  },
  "language_info": {
   "codemirror_mode": {
    "name": "ipython",
    "version": 3
   },
   "file_extension": ".py",
   "mimetype": "text/x-python",
   "name": "python",
   "nbconvert_exporter": "python",
   "pygments_lexer": "ipython3",
   "version": "3.10.4"
  }
 },
 "nbformat": 4,
 "nbformat_minor": 5
}
