{
 "cells": [
  {
   "cell_type": "markdown",
   "id": "01e9e653-f4bc-4c4f-9eb4-099e4e49789a",
   "metadata": {},
   "source": [
    "# Simple Cone Search and Simple Image Access"
   ]
  },
  {
   "cell_type": "markdown",
   "id": "bb8c0932-8e13-41b3-8a26-5d9590caa164",
   "metadata": {},
   "source": [
    "__DESCRIPTION__\n",
    "\n",
    "Script to use pyvo to perform a simple cone search and then retrieve a cutout of the object of interest using Simple Image Access Protocol.\n",
    "\n",
    "@authors Javier Hernandez & Tamara Civera(CEFCA)"
   ]
  },
  {
   "cell_type": "markdown",
   "id": "644bc3f6-a141-4f1d-87c9-bd5b8c5dc118",
   "metadata": {},
   "source": [
    "__Find out coordinate of object of interst__"
   ]
  },
  {
   "cell_type": "code",
   "execution_count": 8,
   "id": "82bb07bd-4a91-48c2-8550-d1fdd6311ad0",
   "metadata": {},
   "outputs": [
    {
     "name": "stdout",
     "output_type": "stream",
     "text": [
      "<SkyCoord (ICRS): (ra, dec) in deg\n",
      "    (339.2617, 34.43)>\n"
     ]
    }
   ],
   "source": [
    "import pyvo as vo\n",
    "from astropy.coordinates import SkyCoord\n",
    "\n",
    "pos = SkyCoord.from_name('NGC 7331')\n",
    "print(pos)"
   ]
  },
  {
   "cell_type": "markdown",
   "id": "ab5c57a8-e916-4a4f-ad53-51ce481901b6",
   "metadata": {},
   "source": [
    "__Execute a cone search__"
   ]
  },
  {
   "cell_type": "code",
   "execution_count": 10,
   "id": "5b691d94-cd1b-40f8-9cef-f6df1d14e966",
   "metadata": {},
   "outputs": [
    {
     "name": "stdout",
     "output_type": "stream",
     "text": [
      "<Table length=1>\n",
      "TILE_ID-NUMBER TILE_ID NUMBER  ALPHA_J2000  DELTA_J2000   R_EFF    FWHM_WORLD  ...       MAG_ERR_APER_6_0         FLAGS        NORM_WMAP_VAL      MASK_FLAGS       MAG_PSFCOR             MAG_ERR_PSFCOR      \n",
      "                                   deg          deg       pixel       deg      ...                                                                                    mag                                     \n",
      "    object      int32  int32     float64      float64    float32    float32    ...         float32[12]          int32[12]       float32[12]       int32[12]       float32[12]              float32[12]        \n",
      "-------------- ------- ------ ------------- ----------- --------- ------------ ... ---------------------------- --------- ----------------------- ---------- --------------------- ---------------------------\n",
      "    89047-4991   89047   4991 137.424210133 37.60157391 31.244287 0.0035294592 ... 0.0043654097 .. 0.0065274057    0 .. 0 0.9616649 .. 0.97914416     0 .. 0 13.627908 .. 13.07963 0.0029261496 .. 0.006200207\n"
     ]
    }
   ],
   "source": [
    "scs_srv = vo.dal.SCSService(\"http://archive.cefca.es/catalogues/vo/cone/jplus-dr2/JPLUS.MAGABDUALOBJ\")\n",
    "scs_results = scs_srv.search(pos=pos, radius=10/3600)\n",
    "print(scs_results)"
   ]
  },
  {
   "cell_type": "code",
   "execution_count": 11,
   "id": "a734ab61-d045-4314-aa06-2885253fdcc6",
   "metadata": {},
   "outputs": [
    {
     "name": "stdout",
     "output_type": "stream",
     "text": [
      "('TILE_ID-NUMBER', 'TILE_ID', 'NUMBER', 'ALPHA_J2000', 'DELTA_J2000', 'R_EFF', 'FWHM_WORLD', 'A_WORLD', 'B_WORLD', 'THETA_J2000', 'ISOAREA_WORLD', 'RELERRA_WORLD', 'RELERRB_WORLD', 'ERRTHETA_J2000', 'CLASS_STAR', 'MAG_AUTO', 'MAG_ISO', 'KRON_RADIUS', 'MAG_APER_3_0', 'MAG_APER_6_0', 'MAG_ERR_AUTO', 'MAG_ERR_ISO', 'MAG_ERR_APER_3_0', 'MAG_ERR_APER_6_0', 'FLAGS', 'NORM_WMAP_VAL', 'MASK_FLAGS', 'MAG_PSFCOR', 'MAG_ERR_PSFCOR')\n"
     ]
    }
   ],
   "source": [
    "print(scs_results.fieldnames)"
   ]
  },
  {
   "cell_type": "code",
   "execution_count": 12,
   "id": "b7e995d8-0fa9-49a6-a174-4b33880c8230",
   "metadata": {
    "tags": []
   },
   "outputs": [
    {
     "data": {
      "text/plain": [
       "'A_WORLD'"
      ]
     },
     "execution_count": 12,
     "metadata": {},
     "output_type": "execute_result"
    }
   ],
   "source": [
    "scs_results.fieldname_with_ucd('phys.angSize.smajAxis')"
   ]
  },
  {
   "cell_type": "markdown",
   "id": "765398a7-6691-4d60-a003-ab4469b1ada4",
   "metadata": {},
   "source": [
    "__Compute object size__"
   ]
  },
  {
   "cell_type": "code",
   "execution_count": 13,
   "id": "a7defe57-ca68-4a36-97a7-58116540f1c7",
   "metadata": {},
   "outputs": [
    {
     "name": "stdout",
     "output_type": "stream",
     "text": [
      "0.026223427802324294\n"
     ]
    }
   ],
   "source": [
    "obj = scs_results[0]\n",
    "size = obj['A_WORLD'] * obj['KRON_RADIUS'] * 2 * 1.2\n",
    "print(size)"
   ]
  },
  {
   "cell_type": "markdown",
   "id": "a08bf630-770e-486b-837c-34b2f1fb6d06",
   "metadata": {},
   "source": [
    "__Perform an image search__"
   ]
  },
  {
   "cell_type": "code",
   "execution_count": null,
   "id": "d333adbe-3490-480a-919a-39aeda4d3646",
   "metadata": {},
   "outputs": [],
   "source": [
    "sia_srv = vo.dal.SIAService(\"http://archive.cefca.es/catalogues/vo/siap/jplus-dr2\")\n",
    "resultset = sia_srv.search(pos=pos, size=size)\n",
    "resultset.to_table()"
   ]
  },
  {
   "cell_type": "code",
   "execution_count": null,
   "id": "7344d5fb-725b-4c6b-af15-401c24355b1e",
   "metadata": {},
   "outputs": [],
   "source": [
    "print(resultset.fieldnames)"
   ]
  },
  {
   "cell_type": "markdown",
   "id": "bad0809f-2a5e-43b6-b4a9-bbe41d044167",
   "metadata": {},
   "source": [
    "__Display RGB cutout__"
   ]
  },
  {
   "cell_type": "code",
   "execution_count": null,
   "id": "5dfa07fe-85c4-48b7-bec1-e52c617c9071",
   "metadata": {},
   "outputs": [],
   "source": [
    "from IPython.display import Image, display\n",
    "\n",
    "for row in resultset:\n",
    "    if row['Format'] != 'image/png' or not 'cutout' in row['Name']:\n",
    "        continue\n",
    "    display(Image(url=row['Url']))\n",
    "    break"
   ]
  },
  {
   "cell_type": "markdown",
   "id": "6a779017-f3cb-4e15-b32a-f4baeaeb8146",
   "metadata": {},
   "source": [
    "__Send to ALadin/DS9 cutouts of all SDSS filter__"
   ]
  },
  {
   "cell_type": "code",
   "execution_count": null,
   "id": "2bdfb84e-de95-44a9-88bf-231a344fcff6",
   "metadata": {},
   "outputs": [],
   "source": [
    "for row in resultset:\n",
    "    if row['Format'] != 'image/fits':\n",
    "        continue\n",
    "    if not 'cutout' in row['Name'] or 'WEIGHT' in row['Name']:\n",
    "        continue\n",
    "    if ('SDSS' in row['BandPass']):\n",
    "        row.broadcast_samp()"
   ]
  },
  {
   "cell_type": "code",
   "execution_count": null,
   "id": "b3cf9726-60fa-4e30-931e-05bd741874e3",
   "metadata": {},
   "outputs": [],
   "source": []
  }
 ],
 "metadata": {
  "kernelspec": {
   "display_name": "Python 3 (ipykernel)",
   "language": "python",
   "name": "python3"
  },
  "language_info": {
   "codemirror_mode": {
    "name": "ipython",
    "version": 3
   },
   "file_extension": ".py",
   "mimetype": "text/x-python",
   "name": "python",
   "nbconvert_exporter": "python",
   "pygments_lexer": "ipython3",
   "version": "3.10.4"
  }
 },
 "nbformat": 4,
 "nbformat_minor": 5
}
