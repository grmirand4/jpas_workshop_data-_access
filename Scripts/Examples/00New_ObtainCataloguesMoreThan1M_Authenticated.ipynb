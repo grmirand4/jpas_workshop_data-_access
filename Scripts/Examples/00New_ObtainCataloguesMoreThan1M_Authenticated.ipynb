{
 "cells": [
  {
   "cell_type": "code",
   "execution_count": null,
   "id": "a5c5b443",
   "metadata": {},
   "outputs": [],
   "source": [
    "# Source code to obtain more than 1M rows by tiles blocks using pyvo in an authenticated service"
   ]
  },
  {
   "cell_type": "code",
   "execution_count": 1,
   "id": "d0c7ba64",
   "metadata": {},
   "outputs": [],
   "source": [
    "# To avoid warnings\n",
    "\n",
    "import warnings\n",
    "warnings.simplefilter(\"ignore\")"
   ]
  },
  {
   "cell_type": "code",
   "execution_count": 2,
   "id": "c3fa450a",
   "metadata": {},
   "outputs": [
    {
     "name": "stdout",
     "output_type": "stream",
     "text": [
      "Username:tcivera\n",
      "Password:········\n"
     ]
    }
   ],
   "source": [
    "import pyvo.dal\n",
    "from pyvo.auth import authsession, securitymethods\n",
    "import requests\n",
    "import getpass\n",
    "\n",
    "url_tap_service = 'https://archive.cefca.es/catalogues/vo/tap/jplus-dr3'\n",
    "archive_login_url = 'https://archive.cefca.es/catalogues/login'\n",
    "\n",
    "user = input(\"Username:\")\n",
    "pwd = getpass.getpass(\"Password:\")\n",
    "\n",
    "\n",
    "# Creation of credentials structures\n",
    "login_args = {'login': user, 'password': pwd, 'submit': 'Sign+In'}\n",
    "login_header = {'Content-type': 'application/x-www-form-urlencoded', 'Accept': 'text/plain'}\n",
    "\n",
    "pyvo.dal.tap.s = requests.Session()\n",
    "response = pyvo.dal.tap.s.post(archive_login_url, data=login_args, headers=login_header)\n",
    "response.raise_for_status()\n",
    "auth = authsession.AuthSession()\n",
    "auth.credentials.set(securitymethods.ANONYMOUS, pyvo.dal.tap.s) \n",
    "    "
   ]
  },
  {
   "cell_type": "code",
   "execution_count": 3,
   "id": "0b14c464",
   "metadata": {},
   "outputs": [
    {
     "name": "stdout",
     "output_type": "stream",
     "text": [
      "Total reference tiles: 1642 Blocks: 33\n"
     ]
    }
   ],
   "source": [
    "# Obtain all the reference tiles in the DR and the blocks of tiles\n",
    "\n",
    "num_tiles_per_block = 50 # Change this number depending the number of objects you expect by tile\n",
    "\n",
    "service = pyvo.dal.TAPService(url_tap_service, auth)\n",
    "\n",
    "resultset = service.search(\"SELECT tile_id FROM TileImage WHERE filter_id = jplus::rSDSS\")\n",
    "\n",
    "ref_tiles = resultset[\"tile_id\"]\n",
    "\n",
    "blocks = int(len(ref_tiles) / num_tiles_per_block)\n",
    "if len(ref_tiles) % num_tiles_per_block > 0:\n",
    "    blocks += 1\n",
    "print(\"Total reference tiles:\", len(ref_tiles), \"Blocks:\", blocks)"
   ]
  },
  {
   "cell_type": "code",
   "execution_count": 4,
   "id": "cfc7f37c",
   "metadata": {},
   "outputs": [
    {
     "name": "stderr",
     "output_type": "stream",
     "text": [
      "WARNING: UnknownElementWarning: None:22:2: UnknownElementWarning: Unknown element jobInfo [pyvo.utils.xml.elements]\n",
      "WARNING:astropy:UnknownElementWarning: None:22:2: UnknownElementWarning: Unknown element jobInfo\n",
      "/home/CEFCA/tcivera/miniconda3/envs/pyvoastroquery_env/lib/python3.9/site-packages/urllib3/connectionpool.py:1013: InsecureRequestWarning: Unverified HTTPS request is being made to host 'archive.cefca.es'. Adding certificate verification is strongly advised. See: https://urllib3.readthedocs.io/en/1.26.x/advanced-usage.html#ssl-warnings\n",
      "  warnings.warn(\n"
     ]
    },
    {
     "name": "stdout",
     "output_type": "stream",
     "text": [
      "Done block 0\n"
     ]
    },
    {
     "name": "stderr",
     "output_type": "stream",
     "text": [
      "/home/CEFCA/tcivera/miniconda3/envs/pyvoastroquery_env/lib/python3.9/site-packages/urllib3/connectionpool.py:1013: InsecureRequestWarning: Unverified HTTPS request is being made to host 'archive.cefca.es'. Adding certificate verification is strongly advised. See: https://urllib3.readthedocs.io/en/1.26.x/advanced-usage.html#ssl-warnings\n",
      "  warnings.warn(\n"
     ]
    },
    {
     "name": "stdout",
     "output_type": "stream",
     "text": [
      "Done block 1\n"
     ]
    },
    {
     "name": "stderr",
     "output_type": "stream",
     "text": [
      "/home/CEFCA/tcivera/miniconda3/envs/pyvoastroquery_env/lib/python3.9/site-packages/urllib3/connectionpool.py:1013: InsecureRequestWarning: Unverified HTTPS request is being made to host 'archive.cefca.es'. Adding certificate verification is strongly advised. See: https://urllib3.readthedocs.io/en/1.26.x/advanced-usage.html#ssl-warnings\n",
      "  warnings.warn(\n"
     ]
    },
    {
     "name": "stdout",
     "output_type": "stream",
     "text": [
      "Done block 2\n",
      "All done.\n"
     ]
    }
   ],
   "source": [
    "# Your query\n",
    "sql_base = \"SELECT obj.TILE_ID, obj.number, obj.ALPHA_J2000 AS RA ,obj.DELTA_J2000 AS DEC,obj.FLUX_AUTO,\" \\\n",
    "            \"obj.FLUX_RELERR_AUTO,obj.class_star, lephare.* \" \\\n",
    "            \"FROM jplus.FNuDualObj obj, j{plus.PhotoZLephare lephare \" \\\n",
    "            \"WHERE obj.TILE_ID = lephare.TILE_ID AND obj.NUMBER = lephare.NUMBER AND lephare.photoz<0.35 AND lephare.photoz>0.05 AND obj.tile_id IN ({0})\"\n",
    "file_dest_name = 'block{0}.fits'\n",
    "\n",
    "# Obtains your data in a fits file\n",
    "for i in range(blocks):\n",
    "    grp = list(ref_tiles[i * num_tiles_per_block:(i+1) * num_tiles_per_block])\n",
    "    adql = sql_base.format(','.join([str(x) for x in grp]))\n",
    "    job = service.submit_job(adql, format=\"FITS\")\n",
    "    dest_name = file_dest_name.format(i)\n",
    "    try:\n",
    "        job.run()\n",
    "        job.wait()\n",
    "        job.raise_if_error()\n",
    "        with open(dest_name, \"wb\") as dest:        \n",
    "            session = requests.Session()\n",
    "            response = session.get(job.result_uri, auth=(user, pwd), verify=False)\n",
    "            response.raise_for_status()\n",
    "            dest.write(response.content)\n",
    "    finally:\n",
    "        job.delete()\n",
    "    print(\"Done block\", i)\n",
    "    if i > 1:\n",
    "        break\n",
    "        \n",
    "print(\"All done.\")"
   ]
  },
  {
   "cell_type": "code",
   "execution_count": null,
   "id": "541ef878",
   "metadata": {},
   "outputs": [],
   "source": []
  }
 ],
 "metadata": {
  "kernelspec": {
   "display_name": "Python 3 (ipykernel)",
   "language": "python",
   "name": "python3"
  },
  "language_info": {
   "codemirror_mode": {
    "name": "ipython",
    "version": 3
   },
   "file_extension": ".py",
   "mimetype": "text/x-python",
   "name": "python",
   "nbconvert_exporter": "python",
   "pygments_lexer": "ipython3",
   "version": "3.10.4"
  }
 },
 "nbformat": 4,
 "nbformat_minor": 5
}
