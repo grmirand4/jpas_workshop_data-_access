{
 "cells": [
  {
   "cell_type": "markdown",
   "id": "c255cd0d-ecde-490a-b69d-0d43b7aca66e",
   "metadata": {},
   "source": [
    "# _Cone search_ in TAP queries"
   ]
  },
  {
   "cell_type": "markdown",
   "id": "f338aaeb-06dc-4beb-b207-2726c388a396",
   "metadata": {},
   "source": [
    "__DESCRIPTION__\n",
    "\n",
    "Script to describe different ways to execute by TAP a cone search.\n",
    "\n",
    "@authors Javier Hernandez & Tamara Civera(CEFCA)"
   ]
  },
  {
   "cell_type": "markdown",
   "id": "587f9eab-c6ff-4d08-a49a-1bd222047e82",
   "metadata": {},
   "source": [
    "### Official ADQL form\n",
    "Supported by _almost_ all TAP public services.\n",
    "```sql\n",
    "SELECT * FROM jplus.FnuDualObj \n",
    "WHERE CONTAINS(POINT('ICRS', alpha_j2000, delta_j2000), CIRCLE('ICRS', 339.26709167, 34.41591944, 300 / 3600.0)) = 1\n",
    "```\n",
    "Optimized in the CEFCA catalogues, with the use of __Healpix indexes__, for constant cones with radius __less than half degree__"
   ]
  },
  {
   "cell_type": "code",
   "execution_count": 1,
   "id": "02865159-8a06-4ea7-b270-cff25023c925",
   "metadata": {},
   "outputs": [
    {
     "name": "stdout",
     "output_type": "stream",
     "text": [
      "Time 0.1919715404510498 s\n",
      "<Table length=335>\n",
      " alpha_j2000   delta_j2000     a_world        b_world           dist      \n",
      "                                                                          \n",
      "   float64       float64       float32        float32         float64     \n",
      "------------- ------------- -------------- ------------- -----------------\n",
      "339.352464888  34.460375651  0.00012195394 8.5094594e-05   0.0832705676559\n",
      "339.197897359 34.4765220239   0.0003353856 0.00030721322   0.0832388077942\n",
      "339.364515343 34.4370838916   9.280519e-05  8.735175e-05   0.0831004347849\n",
      "339.222492103 34.3415133241  0.00012020747   9.84132e-05   0.0830131114077\n",
      "339.342730955 34.3612780855  0.00014093515 0.00011771363   0.0829570393725\n",
      "339.300121384 34.4941876324  0.00010375319 0.00010183678   0.0828714203147\n",
      "          ...           ...            ...           ...               ...\n",
      "339.318576072 34.4161403654  0.00011740173 0.00011321382   0.0424729097043\n",
      "339.308963467 34.4389330081   0.0030960299  0.0027672765    0.041502699063\n",
      " 339.31575949 34.4193075846  0.00022304054 0.00020942438   0.0402907317174\n",
      "339.218748719 34.4110286303  5.9916336e-05  5.791542e-05   0.0401807628676\n",
      "339.285323251 34.4366579568 0.000100330595  9.919528e-05   0.0256171705415\n",
      "339.268201061 34.4159871093    0.007634862   0.005309821 0.000917697242867\n"
     ]
    }
   ],
   "source": [
    "import time\n",
    "import pyvo as vo\n",
    "\n",
    "query = \"\"\"SELECT alpha_j2000, delta_j2000, a_world, b_world, arc_distance(alpha_j2000, delta_j2000, 339.26709167, 34.41591944) as dist \n",
    " FROM jplus.FnuDualObj \n",
    " WHERE CONTAINS(POINT('ICRS', alpha_j2000, delta_j2000), CIRCLE('ICRS', 339.26709167, 34.41591944, 300 / 3600.0)) = 1 \n",
    " ORDER BY dist DESC\"\"\"\n",
    "\n",
    "service = vo.dal.TAPService(\"http://archive.cefca.es/catalogues/vo/tap/jplus-dr2\")\n",
    "start = time.time()\n",
    "resultset = service.run_sync(query)\n",
    "end = time.time()\n",
    "print(\"Time\", end - start, \"s\")\n",
    "print(resultset)"
   ]
  },
  {
   "cell_type": "markdown",
   "id": "53e1c61b-b042-40ee-83e5-b7aa8aca6879",
   "metadata": {
    "tags": []
   },
   "source": [
    "### Simple form with our custom function __arc_distance__\n",
    "Only available at CEFCA.\n",
    "```sql\n",
    "SELECT * FROM FnuDualObj \n",
    "WHERE ARC_DISTANCE(alpha_j2000, delta_j2000, 339.26709167, 34.41591944) < 300 / 3600.0\n",
    "```\n",
    "_Will be optimized soon_ with the use of Healpix indexes (again for constant cones with radius less than half degree)"
   ]
  },
  {
   "cell_type": "code",
   "execution_count": 2,
   "id": "8177c9c8-79e8-4e15-88e1-b5fcb46a3229",
   "metadata": {},
   "outputs": [
    {
     "name": "stdout",
     "output_type": "stream",
     "text": [
      "Time 28.53099012374878 s\n",
      "<Table length=335>\n",
      " alpha_j2000   delta_j2000     a_world        b_world           dist      \n",
      "                                                                          \n",
      "   float64       float64       float32        float32         float64     \n",
      "------------- ------------- -------------- ------------- -----------------\n",
      "339.352464888  34.460375651  0.00012195394 8.5094594e-05   0.0832705676559\n",
      "339.197897359 34.4765220239   0.0003353856 0.00030721322   0.0832388077942\n",
      "339.364515343 34.4370838916   9.280519e-05  8.735175e-05   0.0831004347849\n",
      "339.222492103 34.3415133241  0.00012020747   9.84132e-05   0.0830131114077\n",
      "339.342730955 34.3612780855  0.00014093515 0.00011771363   0.0829570393725\n",
      "339.300121384 34.4941876324  0.00010375319 0.00010183678   0.0828714203147\n",
      "          ...           ...            ...           ...               ...\n",
      "339.318576072 34.4161403654  0.00011740173 0.00011321382   0.0424729097043\n",
      "339.308963467 34.4389330081   0.0030960299  0.0027672765    0.041502699063\n",
      " 339.31575949 34.4193075846  0.00022304054 0.00020942438   0.0402907317174\n",
      "339.218748719 34.4110286303  5.9916336e-05  5.791542e-05   0.0401807628676\n",
      "339.285323251 34.4366579568 0.000100330595  9.919528e-05   0.0256171705415\n",
      "339.268201061 34.4159871093    0.007634862   0.005309821 0.000917697242867\n"
     ]
    }
   ],
   "source": [
    "query = \"\"\"SELECT alpha_j2000, delta_j2000, a_world, b_world, arc_distance(alpha_j2000, delta_j2000, 339.26709167, 34.41591944) as dist \n",
    " FROM jplus.FnuDualObj \n",
    " WHERE ARC_DISTANCE(alpha_j2000, delta_j2000, 339.26709167, 34.41591944) < 300 / 3600.0\n",
    " ORDER BY dist DESC\"\"\"\n",
    "\n",
    "service = vo.dal.TAPService(\"http://archive.cefca.es/catalogues/vo/tap/jplus-dr2\")\n",
    "start = time.time()\n",
    "resultset = service.run_sync(query)\n",
    "end = time.time()\n",
    "print(\"Time\", end - start, \"s\")\n",
    "print(resultset)\n"
   ]
  },
  {
   "cell_type": "markdown",
   "id": "b513f5ae-79b1-4abd-acec-146c45ff7294",
   "metadata": {},
   "source": [
    "# Spatial search with Healpix\n",
    "\n",
    "In object tables the column __hpix11__ is the pixel number of the Healpix __ORDER 11 NESTED schema__ where the object position lies. We can obtain the objects in an spatial area testing again the pixels that cover the area. Example:\n",
    "\n",
    "```sql\n",
    "SELECT * FROM MagABDualObj WHERE hpix11 IN (1233, 1234, 125553, 125554)\n",
    "```\n",
    "\n",
    "The library __Healpy__ contains function to compute pixels for __cones__ and __polygons__."
   ]
  },
  {
   "cell_type": "code",
   "execution_count": 3,
   "id": "0e090cf9-15a9-4168-8487-86f3890bb574",
   "metadata": {},
   "outputs": [
    {
     "name": "stdout",
     "output_type": "stream",
     "text": [
      "[13847238 13847239 13847241 13847243 13847244 13847245 13847246 13847247\n",
      " 13847248 13847249 13847250 13847251 13847254 13847255 13847256 13847257\n",
      " 13847258 13847259 13847260 13847261 13847262 13847263 13847265 13847267\n",
      " 13847268 13847269 13847270 13847271 13847273 13847276 13847277 13847279\n",
      " 13847280 13847281 13847282 13847283 13847284 13847285 13847286 13847288\n",
      " 13847289 13847292]\n"
     ]
    }
   ],
   "source": [
    "import healpy\n",
    "import math\n",
    "\n",
    "ra = 339.26709167 \n",
    "dec = 34.41591944\n",
    "sr = 300 / 3600.0\n",
    "pixels = healpy.query_disc(2**11, healpy.pixelfunc.ang2vec(math.radians(90.0 - dec), math.radians(ra)), math.radians(sr), inclusive=True, nest=True)\n",
    "print(pixels)"
   ]
  },
  {
   "cell_type": "code",
   "execution_count": null,
   "id": "1044cb86-865c-4206-ad18-bcaf259ead75",
   "metadata": {},
   "outputs": [],
   "source": [
    "def query_pixels(pixels):\n",
    "    pixels_str = ','.join([str(x) for x in pixels])\n",
    "    query = \"\"\"SELECT alpha_j2000, delta_j2000, a_world, b_world, arc_distance(alpha_j2000, delta_j2000, 339.26709167, 34.41591944) as dist \n",
    "         FROM jplus.FnuDualObj WHERE hpix11 IN ({0})\n",
    "         ORDER BY dist DESC\"\"\".format(pixels_str)\n",
    "\n",
    "    service = vo.dal.TAPService(\"http://10.200.81.13/catalogues/vo/tap/jplus-dr2\")\n",
    "    start = time.time()\n",
    "    resultset = service.run_sync(query)\n",
    "    end = time.time()\n",
    "    print(\"Time\", end - start, \"s\")\n",
    "    print(resultset)\n",
    "    \n",
    "query_pixels(pixels)"
   ]
  },
  {
   "cell_type": "code",
   "execution_count": null,
   "id": "ce9ec95a-5cf8-45f7-b51f-ccf1350f8fc0",
   "metadata": {},
   "outputs": [],
   "source": [
    "# Each vertex (90 - dec, ra)\n",
    "vertex = [(math.radians(90.0 - 1.0), math.radians(1.0)),\n",
    "          (math.radians(90.0 - 1.0), math.radians(1.01)),\n",
    "          (math.radians(90.0 - 1.01), math.radians(1.01)),\n",
    "          (math.radians(90.0 - 1.02), math.radians(.99)),\n",
    "          (math.radians(90.0 - 1.01), math.radians(.98))]\n",
    "nvxs = [healpy.pixelfunc.ang2vec(vx[0], vx[1]) for vx in vertex]\n",
    "\n",
    "pixels = healpy.query_polygon(2**11, nvxs, inclusive=True, nest=True)\n",
    "print(pixels)"
   ]
  },
  {
   "cell_type": "code",
   "execution_count": null,
   "id": "d35338f0-e192-4785-812b-ea40fc60c397",
   "metadata": {},
   "outputs": [],
   "source": [
    "query_pixels(pixels)"
   ]
  }
 ],
 "metadata": {
  "kernelspec": {
   "display_name": "Python 3 (ipykernel)",
   "language": "python",
   "name": "python3"
  },
  "language_info": {
   "codemirror_mode": {
    "name": "ipython",
    "version": 3
   },
   "file_extension": ".py",
   "mimetype": "text/x-python",
   "name": "python",
   "nbconvert_exporter": "python",
   "pygments_lexer": "ipython3",
   "version": "3.10.4"
  }
 },
 "nbformat": 4,
 "nbformat_minor": 5
}
