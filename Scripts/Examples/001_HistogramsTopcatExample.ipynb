{
 "cells": [
  {
   "cell_type": "markdown",
   "id": "142e1ba3-0be5-4c00-b138-25a0a1df9f90",
   "metadata": {},
   "source": [
    "## _Star_ histogram."
   ]
  },
  {
   "cell_type": "markdown",
   "id": "b5934158-b11e-40fb-bb4c-a4da43662ac9",
   "metadata": {},
   "source": [
    "``` sql\n",
    "SELECT FLOOR(mabd.MAG_APER_3_0[1] * 10) / 10 AS bin, COUNT(*) AS total\n",
    "FROM jplus.MagABDualObj mabd JOIN jplus.StarGalClass jsg \n",
    "ON mabd.TILE_ID = jsg.TILE_ID AND mabd.NUMBER = jsg.NUMBER\n",
    "WHERE jsg.morph_prob_star >= 0.5 AND mabd.MAG_APER_3_0[1] < 90 AND mabd.MAG_APER_3_0[1] / mabd.MAG_ERR_APER_3_0[1] > 5\n",
    "GROUP BY bin ORDER BY bin \n",
    "```"
   ]
  },
  {
   "cell_type": "markdown",
   "id": "43e43dfe-fbf9-432b-8eb6-d3d04ad7f108",
   "metadata": {},
   "source": [
    "## _Galaxy_ histogram."
   ]
  },
  {
   "cell_type": "markdown",
   "id": "7061cfd1-5824-489d-9c45-8dcc0dc09d25",
   "metadata": {},
   "source": [
    "``` sql\n",
    "SELECT FLOOR(mabd.MAG_APER_3_0[1] * 10) / 10 AS bin, COUNT(*) AS total\n",
    "FROM jplus.MagABDualObj mabd JOIN jplus.StarGalClass jsg \n",
    "ON mabd.TILE_ID = jsg.TILE_ID AND mabd.NUMBER = jsg.NUMBER\n",
    "WHERE jsg.morph_prob_star < 0.5 AND mabd.MAG_APER_3_0[1] < 90 AND mabd.MAG_APER_3_0[1] / mabd.MAG_ERR_APER_3_0[1] > 5\n",
    "GROUP BY bin ORDER BY bin \n",
    "```"
   ]
  },
  {
   "cell_type": "markdown",
   "id": "ccd38ac6-0ebf-4360-95d0-ecbcb73babf8",
   "metadata": {},
   "source": [
    "### GAVO like function?\n",
    "``` sql\n",
    "gavo_histogram(val REAL, lower REAL, upper REAL, nbins INTEGER) -> INTEGER[]\n",
    "```\n",
    "    The aggregate function returns a histogram of val with nbins+2 elements. Assuming 0-based arrays, result[0] contains the number of underflows (i.e., val<lower), result[nbins+1] the number of overflows. Elements 1..nbins are the counts in nbins bins of width (upper-lower)/nbins. Clients will have to convert back to physical units using some external communication, there currently is no (meta-) data as lower and upper in the TAP response."
   ]
  },
  {
   "cell_type": "code",
   "execution_count": null,
   "id": "c712a526-ead1-4c28-b19f-1a4d0d32f324",
   "metadata": {},
   "outputs": [],
   "source": []
  }
 ],
 "metadata": {
  "kernelspec": {
   "display_name": "Python 3 (ipykernel)",
   "language": "python",
   "name": "python3"
  },
  "language_info": {
   "codemirror_mode": {
    "name": "ipython",
    "version": 3
   },
   "file_extension": ".py",
   "mimetype": "text/x-python",
   "name": "python",
   "nbconvert_exporter": "python",
   "pygments_lexer": "ipython3",
   "version": "3.10.4"
  }
 },
 "nbformat": 4,
 "nbformat_minor": 5
}
