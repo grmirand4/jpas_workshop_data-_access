{
 "cells": [
  {
   "cell_type": "markdown",
   "id": "34d2a3a7-15a3-406e-89c6-3b0df94eda77",
   "metadata": {},
   "source": [
    "# Catalogue download _(Avoid Row limit)_"
   ]
  },
  {
   "cell_type": "code",
   "execution_count": null,
   "id": "079136d4",
   "metadata": {},
   "outputs": [],
   "source": []
  },
  {
   "cell_type": "markdown",
   "id": "604a133a-2b8a-4de1-8ae3-1330979da44a",
   "metadata": {},
   "source": [
    "__DESCRIPTION__\n",
    "\n",
    "Script to describe different ways to obtain by TAP a big subset of data.\n",
    "\n",
    "@authors Javier Hernandez & Tamara Civera(CEFCA)"
   ]
  },
  {
   "cell_type": "markdown",
   "id": "0d57ebcd-a247-4fcf-b026-b03aa952e065",
   "metadata": {},
   "source": [
    "## Download by __Tile__"
   ]
  },
  {
   "cell_type": "markdown",
   "id": "66f72bc7-b558-483b-b668-75c119262129",
   "metadata": {},
   "source": [
    "Use when you want to download a __big subset__ of the catalogue database."
   ]
  },
  {
   "cell_type": "markdown",
   "id": "d9b21759-377f-4480-b178-f483e95c7728",
   "metadata": {},
   "source": [
    "Fist, obtain __tile ids__ for __dual mode__:"
   ]
  },
  {
   "cell_type": "code",
   "execution_count": null,
   "id": "9cb74e11-0566-4019-ae09-7f6133877f34",
   "metadata": {},
   "outputs": [],
   "source": [
    "import pyvo as vo\n",
    "\n",
    "service = vo.dal.TAPService(\"https://archive.cefca.es/catalogues/vo/tap/jplus-dr2\")\n",
    "resultset = service.search(\"SELECT tile_id FROM TileImage WHERE filter_id = jplus::rSDSS\")\n",
    "ref_tiles = resultset[\"tile_id\"]\n",
    "print(\"Total reference tiles\", len(ref_tiles))"
   ]
  },
  {
   "cell_type": "markdown",
   "id": "1240b52e-07a4-4f68-a8cc-af630831d08d",
   "metadata": {},
   "source": [
    "Download in __CSV__ format with __simplevotap__ module"
   ]
  },
  {
   "cell_type": "code",
   "execution_count": null,
   "id": "4db94580-a1f5-486c-be6c-cf10792beef0",
   "metadata": {},
   "outputs": [],
   "source": [
    "from simplevotap import ADQLService\n",
    "\n",
    "resultset = service.search(\"SELECT tile_id FROM TileImage WHERE filter_id = jplus::rSDSS AND FWHMG < .88\")\n",
    "ref_tiles = resultset[\"tile_id\"]\n",
    "print(\"Total reference tiles:\", len(ref_tiles))\n",
    "\n",
    "ser = ADQLService(\"http://archive.cefca.es/catalogues/vo/tap/jplus-dr2\")\n",
    "sql_base = \"SELECT tile_id, number, ALPHA_J2000, DELTA_J2000, CLASS_STAR, MAG_AUTO, MAG_ERR_AUTO FROM MagABDualObj\"\n",
    "for t in ref_tiles:\n",
    "    adql = sql_base + \" WHERE tile_id = \" + str(t) + \" AND ARRAY_MAX_INT(flags) = 0 ORDER BY number\"\n",
    "    ser.exec_async(adql, filename='{0}.csv'.format(t), formattable='csv', delete=True)\n",
    "    print(\"Done\", t)\n",
    "\n",
    "print(\"All done.\")\n"
   ]
  },
  {
   "cell_type": "markdown",
   "id": "6091884f-e31f-434d-abe5-534899aaff76",
   "metadata": {},
   "source": [
    "Another option: download in __FITs__ format by __tile blocks__ (more compact and with less files)"
   ]
  },
  {
   "cell_type": "code",
   "execution_count": null,
   "id": "1ccf1a9d-1522-4fe4-baf0-18969a0ab4d4",
   "metadata": {},
   "outputs": [],
   "source": [
    "resultset = service.search(\"SELECT tile_id FROM TileImage WHERE filter_id = jplus::rSDSS AND FWHMG < .9\")\n",
    "ref_tiles = resultset[\"tile_id\"]\n",
    "\n",
    "blocks = int(len(ref_tiles) / 10)\n",
    "if len(ref_tiles) % 10 > 0:\n",
    "    blocks += 1\n",
    "print(\"Total reference tiles:\", len(ref_tiles), \"Blocks:\", blocks)\n",
    "    \n",
    "sql_base = \"SELECT tile_id, number, ALPHA_J2000, DELTA_J2000, CLASS_STAR, MAG_AUTO, MAG_ERR_AUTO FROM MagABDualObj\"\n",
    "for i in range(blocks):\n",
    "    grp = list(ref_tiles[i * 10:(i+1) * 10])\n",
    "    adql = sql_base + \" WHERE tile_id IN (\" + ','.join([str(x) for x in grp]) + \") AND ARRAY_MAX_INT(flags) = 0\"\n",
    "    ser.exec_async(adql, filename='block{0}.fits'.format(i), formattable='fits', delete=True)\n",
    "    print(\"Done block\", i)\n",
    "\n",
    "print(\"All done.\")"
   ]
  },
  {
   "cell_type": "markdown",
   "id": "8c859414-1e3b-4388-ab8a-f8370fdc1e45",
   "metadata": {},
   "source": [
    "## Download with LIMIT and OFFSET"
   ]
  },
  {
   "cell_type": "markdown",
   "id": "3af650f1-e285-44ce-a783-63150a1b66a4",
   "metadata": {},
   "source": [
    "Use it when you want a __small subset__ but it surpass the TAP row limit."
   ]
  },
  {
   "cell_type": "code",
   "execution_count": null,
   "id": "d17d431b-02a6-48cc-99f7-45c4f79a4ff3",
   "metadata": {},
   "outputs": [],
   "source": [
    "service = vo.dal.TAPService(\"https://archive.cefca.es/catalogues/vo/tap/jplus-dr2\")\n",
    "\n",
    "# 69209 objects between dec -1 and 0\n",
    "sql = \"\"\"SELECT TOP {0} tile_id, number, ALPHA_J2000, DELTA_J2000, CLASS_STAR, MAG_AUTO, MAG_ERR_AUTO \n",
    "FROM MagABDualObj \n",
    "WHERE DELTA_J2000 BETWEEN (-1) AND 0 ORDER BY tile_id, number OFFSET {1}\"\"\"\n",
    "\n",
    "top = 50000\n",
    "offset = 0\n",
    "while True:\n",
    "    adql = sql.format(top, offset)\n",
    "    print(adql)\n",
    "    resultset = service.run_async(adql, maxrec=1000000)\n",
    "    found = len(resultset)\n",
    "    print(\"found\", found, \"rows\")\n",
    "    # Add to result file ...\n",
    "    if found < top:\n",
    "        break\n",
    "    offset += top\n",
    "\n",
    "print(\"Done!\")"
   ]
  },
  {
   "cell_type": "code",
   "execution_count": null,
   "id": "56c1932e-f76b-43f5-8edf-703926470f29",
   "metadata": {},
   "outputs": [],
   "source": []
  }
 ],
 "metadata": {
  "kernelspec": {
   "display_name": "Python 3 (ipykernel)",
   "language": "python",
   "name": "python3"
  },
  "language_info": {
   "codemirror_mode": {
    "name": "ipython",
    "version": 3
   },
   "file_extension": ".py",
   "mimetype": "text/x-python",
   "name": "python",
   "nbconvert_exporter": "python",
   "pygments_lexer": "ipython3",
   "version": "3.10.4"
  }
 },
 "nbformat": 4,
 "nbformat_minor": 5
}
